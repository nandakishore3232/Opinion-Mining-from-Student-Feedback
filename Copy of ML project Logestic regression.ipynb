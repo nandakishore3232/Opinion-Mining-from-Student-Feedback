{
 "cells": [
  {
   "cell_type": "code",
   "execution_count": null,
   "metadata": {
    "id": "vZya1pnGjVo8"
   },
   "outputs": [],
   "source": [
    "import numpy as np\n",
    "import pandas as pd\n",
    "import matplotlib.pyplot as plt\n",
    "import seaborn as sns"
   ]
  },
  {
   "cell_type": "code",
   "execution_count": null,
   "metadata": {
    "id": "MqLxNIHf73mU"
   },
   "outputs": [],
   "source": [
    "import numpy as np\n",
    "import os"
   ]
  },
  {
   "cell_type": "code",
   "execution_count": null,
   "metadata": {
    "id": "b6x24V8ZRxpW"
   },
   "outputs": [],
   "source": [
    "data=pd.read_csv('/content/drive/MyDrive/ml project/Stu Feedback (3).csv')"
   ]
  },
  {
   "cell_type": "code",
   "execution_count": null,
   "metadata": {
    "colab": {
     "base_uri": "https://localhost:8080/",
     "height": 402
    },
    "executionInfo": {
     "elapsed": 1567,
     "status": "ok",
     "timestamp": 1619272210728,
     "user": {
      "displayName": "Gokulram K",
      "photoUrl": "",
      "userId": "14437931993620132200"
     },
     "user_tz": -330
    },
    "id": "PaH5guKxR7LJ",
    "outputId": "b4f49532-0808-4f0d-eb71-27cce531eb24"
   },
   "outputs": [
    {
     "data": {
      "text/html": [
       "<div>\n",
       "<style scoped>\n",
       "    .dataframe tbody tr th:only-of-type {\n",
       "        vertical-align: middle;\n",
       "    }\n",
       "\n",
       "    .dataframe tbody tr th {\n",
       "        vertical-align: top;\n",
       "    }\n",
       "\n",
       "    .dataframe thead th {\n",
       "        text-align: right;\n",
       "    }\n",
       "</style>\n",
       "<table border=\"1\" class=\"dataframe\">\n",
       "  <thead>\n",
       "    <tr style=\"text-align: right;\">\n",
       "      <th></th>\n",
       "      <th>Timestamp</th>\n",
       "      <th>Name</th>\n",
       "      <th>Course</th>\n",
       "      <th>Year of Study</th>\n",
       "      <th>Description</th>\n",
       "      <th>Result</th>\n",
       "    </tr>\n",
       "  </thead>\n",
       "  <tbody>\n",
       "    <tr>\n",
       "      <th>0</th>\n",
       "      <td>4/5/2021 13:43</td>\n",
       "      <td>Shruthi J</td>\n",
       "      <td>M.Sc</td>\n",
       "      <td>2</td>\n",
       "      <td>Awesome</td>\n",
       "      <td>positive</td>\n",
       "    </tr>\n",
       "    <tr>\n",
       "      <th>1</th>\n",
       "      <td>4/5/2021 13:43</td>\n",
       "      <td>Vaishali.k</td>\n",
       "      <td>M.Sc</td>\n",
       "      <td>2</td>\n",
       "      <td>80%</td>\n",
       "      <td>positive</td>\n",
       "    </tr>\n",
       "    <tr>\n",
       "      <th>2</th>\n",
       "      <td>4/5/2021 13:45</td>\n",
       "      <td>Kishore Kumar R</td>\n",
       "      <td>M.Sc</td>\n",
       "      <td>2</td>\n",
       "      <td>Not bad.</td>\n",
       "      <td>neutral</td>\n",
       "    </tr>\n",
       "    <tr>\n",
       "      <th>3</th>\n",
       "      <td>4/5/2021 13:46</td>\n",
       "      <td>Karthik</td>\n",
       "      <td>M.Sc</td>\n",
       "      <td>1</td>\n",
       "      <td>good</td>\n",
       "      <td>positive</td>\n",
       "    </tr>\n",
       "    <tr>\n",
       "      <th>4</th>\n",
       "      <td>4/5/2021 13:47</td>\n",
       "      <td>Jayasuriya E</td>\n",
       "      <td>M.Sc</td>\n",
       "      <td>2</td>\n",
       "      <td>I feel great.class are going really well compa...</td>\n",
       "      <td>positive</td>\n",
       "    </tr>\n",
       "    <tr>\n",
       "      <th>...</th>\n",
       "      <td>...</td>\n",
       "      <td>...</td>\n",
       "      <td>...</td>\n",
       "      <td>...</td>\n",
       "      <td>...</td>\n",
       "      <td>...</td>\n",
       "    </tr>\n",
       "    <tr>\n",
       "      <th>65</th>\n",
       "      <td>8/4/2021 10:46</td>\n",
       "      <td>Surya</td>\n",
       "      <td>B.E</td>\n",
       "      <td>2</td>\n",
       "      <td>Good</td>\n",
       "      <td>positive</td>\n",
       "    </tr>\n",
       "    <tr>\n",
       "      <th>66</th>\n",
       "      <td>8/4/2021 7:00</td>\n",
       "      <td>Kavya Kannan</td>\n",
       "      <td>M.Sc</td>\n",
       "      <td>II</td>\n",
       "      <td>It? the best and the most lovable journey that...</td>\n",
       "      <td>positive</td>\n",
       "    </tr>\n",
       "    <tr>\n",
       "      <th>67</th>\n",
       "      <td>12/4/2021 10:04</td>\n",
       "      <td>Janani. T</td>\n",
       "      <td>B.E</td>\n",
       "      <td>III</td>\n",
       "      <td>Good and useful</td>\n",
       "      <td>positive</td>\n",
       "    </tr>\n",
       "    <tr>\n",
       "      <th>68</th>\n",
       "      <td>12/4/2021 10:47</td>\n",
       "      <td>Arun d</td>\n",
       "      <td>M.Sc</td>\n",
       "      <td>I</td>\n",
       "      <td>M</td>\n",
       "      <td>neutral</td>\n",
       "    </tr>\n",
       "    <tr>\n",
       "      <th>69</th>\n",
       "      <td>5/4/2021 22:40</td>\n",
       "      <td>Niranjana</td>\n",
       "      <td>M.Sc</td>\n",
       "      <td>II</td>\n",
       "      <td>Hostel life is the best as far as CIT concerned.</td>\n",
       "      <td>positive</td>\n",
       "    </tr>\n",
       "  </tbody>\n",
       "</table>\n",
       "<p>70 rows × 6 columns</p>\n",
       "</div>"
      ],
      "text/plain": [
       "          Timestamp  ...     Result\n",
       "0    4/5/2021 13:43  ...  positive \n",
       "1    4/5/2021 13:43  ...  positive \n",
       "2    4/5/2021 13:45  ...    neutral\n",
       "3    4/5/2021 13:46  ...  positive \n",
       "4    4/5/2021 13:47  ...  positive \n",
       "..              ...  ...        ...\n",
       "65   8/4/2021 10:46  ...  positive \n",
       "66    8/4/2021 7:00  ...  positive \n",
       "67  12/4/2021 10:04  ...  positive \n",
       "68  12/4/2021 10:47  ...    neutral\n",
       "69   5/4/2021 22:40  ...  positive \n",
       "\n",
       "[70 rows x 6 columns]"
      ]
     },
     "execution_count": 6,
     "metadata": {
      "tags": []
     },
     "output_type": "execute_result"
    }
   ],
   "source": [
    "data"
   ]
  },
  {
   "cell_type": "code",
   "execution_count": null,
   "metadata": {
    "id": "ArQcTeeUaPLR"
   },
   "outputs": [],
   "source": [
    "data['res'] = pd.factorize(data.Result)[0]"
   ]
  },
  {
   "cell_type": "code",
   "execution_count": null,
   "metadata": {
    "colab": {
     "base_uri": "https://localhost:8080/"
    },
    "executionInfo": {
     "elapsed": 1217,
     "status": "ok",
     "timestamp": 1619272214000,
     "user": {
      "displayName": "Gokulram K",
      "photoUrl": "",
      "userId": "14437931993620132200"
     },
     "user_tz": -330
    },
    "id": "3im1yYBJa5Z8",
    "outputId": "d8fa13c9-0cc5-4a80-d4aa-19d83caf8fc8"
   },
   "outputs": [
    {
     "name": "stdout",
     "output_type": "stream",
     "text": [
      "0     0\n",
      "1     0\n",
      "2     1\n",
      "3     0\n",
      "4     0\n",
      "     ..\n",
      "65    0\n",
      "66    0\n",
      "67    0\n",
      "68    1\n",
      "69    0\n",
      "Name: res, Length: 70, dtype: int64\n"
     ]
    }
   ],
   "source": [
    "print(data['res'])"
   ]
  },
  {
   "cell_type": "code",
   "execution_count": null,
   "metadata": {
    "colab": {
     "base_uri": "https://localhost:8080/",
     "height": 1000
    },
    "executionInfo": {
     "elapsed": 779,
     "status": "ok",
     "timestamp": 1619272215228,
     "user": {
      "displayName": "Gokulram K",
      "photoUrl": "",
      "userId": "14437931993620132200"
     },
     "user_tz": -330
    },
    "id": "AM8MJfD7bDsS",
    "outputId": "963548b0-bbc8-4613-b93c-5f984a6cbffb"
   },
   "outputs": [
    {
     "data": {
      "text/html": [
       "<div>\n",
       "<style scoped>\n",
       "    .dataframe tbody tr th:only-of-type {\n",
       "        vertical-align: middle;\n",
       "    }\n",
       "\n",
       "    .dataframe tbody tr th {\n",
       "        vertical-align: top;\n",
       "    }\n",
       "\n",
       "    .dataframe thead th {\n",
       "        text-align: right;\n",
       "    }\n",
       "</style>\n",
       "<table border=\"1\" class=\"dataframe\">\n",
       "  <thead>\n",
       "    <tr style=\"text-align: right;\">\n",
       "      <th></th>\n",
       "      <th>Timestamp</th>\n",
       "      <th>Name</th>\n",
       "      <th>Course</th>\n",
       "      <th>Year of Study</th>\n",
       "      <th>Description</th>\n",
       "      <th>Result</th>\n",
       "      <th>res</th>\n",
       "    </tr>\n",
       "  </thead>\n",
       "  <tbody>\n",
       "    <tr>\n",
       "      <th>0</th>\n",
       "      <td>4/5/2021 13:43</td>\n",
       "      <td>Shruthi J</td>\n",
       "      <td>M.Sc</td>\n",
       "      <td>2</td>\n",
       "      <td>Awesome</td>\n",
       "      <td>positive</td>\n",
       "      <td>0</td>\n",
       "    </tr>\n",
       "    <tr>\n",
       "      <th>1</th>\n",
       "      <td>4/5/2021 13:43</td>\n",
       "      <td>Vaishali.k</td>\n",
       "      <td>M.Sc</td>\n",
       "      <td>2</td>\n",
       "      <td>80%</td>\n",
       "      <td>positive</td>\n",
       "      <td>0</td>\n",
       "    </tr>\n",
       "    <tr>\n",
       "      <th>2</th>\n",
       "      <td>4/5/2021 13:45</td>\n",
       "      <td>Kishore Kumar R</td>\n",
       "      <td>M.Sc</td>\n",
       "      <td>2</td>\n",
       "      <td>Not bad.</td>\n",
       "      <td>neutral</td>\n",
       "      <td>1</td>\n",
       "    </tr>\n",
       "    <tr>\n",
       "      <th>3</th>\n",
       "      <td>4/5/2021 13:46</td>\n",
       "      <td>Karthik</td>\n",
       "      <td>M.Sc</td>\n",
       "      <td>1</td>\n",
       "      <td>good</td>\n",
       "      <td>positive</td>\n",
       "      <td>0</td>\n",
       "    </tr>\n",
       "    <tr>\n",
       "      <th>4</th>\n",
       "      <td>4/5/2021 13:47</td>\n",
       "      <td>Jayasuriya E</td>\n",
       "      <td>M.Sc</td>\n",
       "      <td>2</td>\n",
       "      <td>I feel great.class are going really well compa...</td>\n",
       "      <td>positive</td>\n",
       "      <td>0</td>\n",
       "    </tr>\n",
       "    <tr>\n",
       "      <th>5</th>\n",
       "      <td>4/5/2021 13:48</td>\n",
       "      <td>Mathew Valan</td>\n",
       "      <td>M.Sc</td>\n",
       "      <td>1</td>\n",
       "      <td>Good\\n</td>\n",
       "      <td>positive</td>\n",
       "      <td>0</td>\n",
       "    </tr>\n",
       "    <tr>\n",
       "      <th>6</th>\n",
       "      <td>4/5/2021 13:49</td>\n",
       "      <td>Agni prasanth M</td>\n",
       "      <td>M.Sc</td>\n",
       "      <td>1</td>\n",
       "      <td>Good\\n</td>\n",
       "      <td>positive</td>\n",
       "      <td>0</td>\n",
       "    </tr>\n",
       "    <tr>\n",
       "      <th>7</th>\n",
       "      <td>4/5/2021 13:49</td>\n",
       "      <td>Naresh Kumar</td>\n",
       "      <td>M.Sc</td>\n",
       "      <td>2</td>\n",
       "      <td>Felt good , but had some issues too. The colle...</td>\n",
       "      <td>positive</td>\n",
       "      <td>0</td>\n",
       "    </tr>\n",
       "    <tr>\n",
       "      <th>8</th>\n",
       "      <td>4/5/2021 13:55</td>\n",
       "      <td>Ridhanya S</td>\n",
       "      <td>M.Sc</td>\n",
       "      <td>2</td>\n",
       "      <td>A growing experience</td>\n",
       "      <td>positive</td>\n",
       "      <td>0</td>\n",
       "    </tr>\n",
       "    <tr>\n",
       "      <th>9</th>\n",
       "      <td>4/5/2021 13:55</td>\n",
       "      <td>DINESHKUMAR S</td>\n",
       "      <td>M.Sc</td>\n",
       "      <td>1</td>\n",
       "      <td>Everything fine</td>\n",
       "      <td>positive</td>\n",
       "      <td>0</td>\n",
       "    </tr>\n",
       "    <tr>\n",
       "      <th>10</th>\n",
       "      <td>4/5/2021 13:55</td>\n",
       "      <td>Mukish S</td>\n",
       "      <td>M.Sc</td>\n",
       "      <td>1</td>\n",
       "      <td>Everything great.</td>\n",
       "      <td>positive</td>\n",
       "      <td>0</td>\n",
       "    </tr>\n",
       "    <tr>\n",
       "      <th>11</th>\n",
       "      <td>4/5/2021 13:57</td>\n",
       "      <td>S.R.Hari shankar</td>\n",
       "      <td>M.Sc</td>\n",
       "      <td>1</td>\n",
       "      <td>Everything is I feel comfortable here</td>\n",
       "      <td>positive</td>\n",
       "      <td>0</td>\n",
       "    </tr>\n",
       "    <tr>\n",
       "      <th>12</th>\n",
       "      <td>4/5/2021 13:57</td>\n",
       "      <td>Sibikshan K</td>\n",
       "      <td>M.Sc</td>\n",
       "      <td>1</td>\n",
       "      <td>Nothing</td>\n",
       "      <td>negative</td>\n",
       "      <td>2</td>\n",
       "    </tr>\n",
       "    <tr>\n",
       "      <th>13</th>\n",
       "      <td>4/5/2021 13:58</td>\n",
       "      <td>Sundaresan CG</td>\n",
       "      <td>M.Sc</td>\n",
       "      <td>1</td>\n",
       "      <td>Sorry, We haven't experienced college yet.</td>\n",
       "      <td>neutral</td>\n",
       "      <td>1</td>\n",
       "    </tr>\n",
       "    <tr>\n",
       "      <th>14</th>\n",
       "      <td>4/5/2021 13:59</td>\n",
       "      <td>suriya prashanna</td>\n",
       "      <td>M.Sc</td>\n",
       "      <td>1</td>\n",
       "      <td>nothing</td>\n",
       "      <td>negative</td>\n",
       "      <td>2</td>\n",
       "    </tr>\n",
       "    <tr>\n",
       "      <th>15</th>\n",
       "      <td>4/5/2021 14:04</td>\n",
       "      <td>Jabustin</td>\n",
       "      <td>B.E</td>\n",
       "      <td>2</td>\n",
       "      <td>Good</td>\n",
       "      <td>positive</td>\n",
       "      <td>0</td>\n",
       "    </tr>\n",
       "    <tr>\n",
       "      <th>16</th>\n",
       "      <td>4/5/2021 14:05</td>\n",
       "      <td>Kishore G K</td>\n",
       "      <td>M.Sc</td>\n",
       "      <td>1</td>\n",
       "      <td>Everything is going fine with online class but...</td>\n",
       "      <td>neutral</td>\n",
       "      <td>1</td>\n",
       "    </tr>\n",
       "    <tr>\n",
       "      <th>17</th>\n",
       "      <td>4/5/2021 14:06</td>\n",
       "      <td>P.Narean Karthick</td>\n",
       "      <td>M.Sc</td>\n",
       "      <td>2</td>\n",
       "      <td>Mostly in online so than I don't interact much</td>\n",
       "      <td>negative</td>\n",
       "      <td>2</td>\n",
       "    </tr>\n",
       "    <tr>\n",
       "      <th>18</th>\n",
       "      <td>4/5/2021 14:07</td>\n",
       "      <td>dhyaneshwaran k</td>\n",
       "      <td>M.Sc</td>\n",
       "      <td>1</td>\n",
       "      <td>we dint experience anything yet.</td>\n",
       "      <td>negative</td>\n",
       "      <td>2</td>\n",
       "    </tr>\n",
       "    <tr>\n",
       "      <th>19</th>\n",
       "      <td>4/5/2021 14:11</td>\n",
       "      <td>Ridhisha</td>\n",
       "      <td>M.Sc</td>\n",
       "      <td>2</td>\n",
       "      <td>Nice environment</td>\n",
       "      <td>positive</td>\n",
       "      <td>0</td>\n",
       "    </tr>\n",
       "    <tr>\n",
       "      <th>20</th>\n",
       "      <td>4/5/2021 14:34</td>\n",
       "      <td>Rohan</td>\n",
       "      <td>M.Sc</td>\n",
       "      <td>2</td>\n",
       "      <td>Nice</td>\n",
       "      <td>positive</td>\n",
       "      <td>0</td>\n",
       "    </tr>\n",
       "    <tr>\n",
       "      <th>21</th>\n",
       "      <td>4/5/2021 14:39</td>\n",
       "      <td>Karthik</td>\n",
       "      <td>B.E</td>\n",
       "      <td>2</td>\n",
       "      <td>Good experience</td>\n",
       "      <td>positive</td>\n",
       "      <td>0</td>\n",
       "    </tr>\n",
       "    <tr>\n",
       "      <th>22</th>\n",
       "      <td>4/5/2021 14:39</td>\n",
       "      <td>Arun</td>\n",
       "      <td>M.Sc</td>\n",
       "      <td>3</td>\n",
       "      <td>Average to good</td>\n",
       "      <td>positive</td>\n",
       "      <td>0</td>\n",
       "    </tr>\n",
       "    <tr>\n",
       "      <th>23</th>\n",
       "      <td>4/5/2021 14:40</td>\n",
       "      <td>Nanda Kishore</td>\n",
       "      <td>M.Sc</td>\n",
       "      <td>2</td>\n",
       "      <td>All are good.It gives a wonderful experience, ...</td>\n",
       "      <td>neutral</td>\n",
       "      <td>1</td>\n",
       "    </tr>\n",
       "    <tr>\n",
       "      <th>24</th>\n",
       "      <td>4/5/2021 14:40</td>\n",
       "      <td>Srijith</td>\n",
       "      <td>M.Sc</td>\n",
       "      <td>2</td>\n",
       "      <td>Library is good and nice climate inside the ca...</td>\n",
       "      <td>positive</td>\n",
       "      <td>0</td>\n",
       "    </tr>\n",
       "    <tr>\n",
       "      <th>25</th>\n",
       "      <td>4/5/2021 14:41</td>\n",
       "      <td>Santhosh</td>\n",
       "      <td>B.E</td>\n",
       "      <td>3</td>\n",
       "      <td>Its almost a wonderful experience</td>\n",
       "      <td>positive</td>\n",
       "      <td>0</td>\n",
       "    </tr>\n",
       "    <tr>\n",
       "      <th>26</th>\n",
       "      <td>4/5/2021 14:52</td>\n",
       "      <td>Nevetha</td>\n",
       "      <td>B.Tech</td>\n",
       "      <td>4</td>\n",
       "      <td>Good college with great atmosphere</td>\n",
       "      <td>positive</td>\n",
       "      <td>0</td>\n",
       "    </tr>\n",
       "    <tr>\n",
       "      <th>27</th>\n",
       "      <td>4/5/2021 14:58</td>\n",
       "      <td>KISHORE.C</td>\n",
       "      <td>B.E</td>\n",
       "      <td>2</td>\n",
       "      <td>Gaining knowledge</td>\n",
       "      <td>positive</td>\n",
       "      <td>0</td>\n",
       "    </tr>\n",
       "    <tr>\n",
       "      <th>28</th>\n",
       "      <td>4/5/2021 14:59</td>\n",
       "      <td>Ilakiya.S</td>\n",
       "      <td>M.Sc</td>\n",
       "      <td>2</td>\n",
       "      <td>Good</td>\n",
       "      <td>positive</td>\n",
       "      <td>0</td>\n",
       "    </tr>\n",
       "    <tr>\n",
       "      <th>29</th>\n",
       "      <td>4/5/2021 15:01</td>\n",
       "      <td>K.gokul ram</td>\n",
       "      <td>M.Sc</td>\n",
       "      <td>2</td>\n",
       "      <td>The college was good at educational</td>\n",
       "      <td>positive</td>\n",
       "      <td>0</td>\n",
       "    </tr>\n",
       "    <tr>\n",
       "      <th>30</th>\n",
       "      <td>4/5/2021 15:01</td>\n",
       "      <td>Nitheyah Raajah S</td>\n",
       "      <td>B.Tech</td>\n",
       "      <td>2</td>\n",
       "      <td>Good regarding Academics... Poor in terms of H...</td>\n",
       "      <td>positive</td>\n",
       "      <td>0</td>\n",
       "    </tr>\n",
       "    <tr>\n",
       "      <th>31</th>\n",
       "      <td>4/5/2021 15:14</td>\n",
       "      <td>S. Madhan</td>\n",
       "      <td>B.Tech</td>\n",
       "      <td>2</td>\n",
       "      <td>Its like again experience school life</td>\n",
       "      <td>positive</td>\n",
       "      <td>0</td>\n",
       "    </tr>\n",
       "    <tr>\n",
       "      <th>32</th>\n",
       "      <td>4/5/2021 15:15</td>\n",
       "      <td>Surya RE</td>\n",
       "      <td>M.Sc</td>\n",
       "      <td>2</td>\n",
       "      <td>Awesome experience</td>\n",
       "      <td>positive</td>\n",
       "      <td>0</td>\n",
       "    </tr>\n",
       "    <tr>\n",
       "      <th>33</th>\n",
       "      <td>4/5/2021 15:23</td>\n",
       "      <td>GK Kiruthik Sabari</td>\n",
       "      <td>B.Tech</td>\n",
       "      <td>2</td>\n",
       "      <td>Nice</td>\n",
       "      <td>positive</td>\n",
       "      <td>0</td>\n",
       "    </tr>\n",
       "    <tr>\n",
       "      <th>34</th>\n",
       "      <td>4/5/2021 15:27</td>\n",
       "      <td>Shanmuga Priya</td>\n",
       "      <td>B.E</td>\n",
       "      <td>2</td>\n",
       "      <td>Kind of fun</td>\n",
       "      <td>positive</td>\n",
       "      <td>0</td>\n",
       "    </tr>\n",
       "    <tr>\n",
       "      <th>35</th>\n",
       "      <td>4/5/2021 15:31</td>\n",
       "      <td>Dhamodaran B</td>\n",
       "      <td>M.Sc</td>\n",
       "      <td>3</td>\n",
       "      <td>Good</td>\n",
       "      <td>positive</td>\n",
       "      <td>0</td>\n",
       "    </tr>\n",
       "    <tr>\n",
       "      <th>36</th>\n",
       "      <td>4/5/2021 15:38</td>\n",
       "      <td>Shamruthi</td>\n",
       "      <td>M.Sc</td>\n",
       "      <td>2</td>\n",
       "      <td>Good but could be better</td>\n",
       "      <td>positive</td>\n",
       "      <td>0</td>\n",
       "    </tr>\n",
       "    <tr>\n",
       "      <th>37</th>\n",
       "      <td>4/5/2021 16:07</td>\n",
       "      <td>Sunmathi</td>\n",
       "      <td>B.E</td>\n",
       "      <td>4</td>\n",
       "      <td>Good</td>\n",
       "      <td>positive</td>\n",
       "      <td>0</td>\n",
       "    </tr>\n",
       "    <tr>\n",
       "      <th>38</th>\n",
       "      <td>4/5/2021 16:08</td>\n",
       "      <td>Suhasini</td>\n",
       "      <td>B.Tech</td>\n",
       "      <td>3</td>\n",
       "      <td>Best</td>\n",
       "      <td>positive</td>\n",
       "      <td>0</td>\n",
       "    </tr>\n",
       "    <tr>\n",
       "      <th>39</th>\n",
       "      <td>4/5/2021 16:14</td>\n",
       "      <td>Saran Prasath A R</td>\n",
       "      <td>M.Sc</td>\n",
       "      <td>2</td>\n",
       "      <td>Good experience</td>\n",
       "      <td>positive</td>\n",
       "      <td>0</td>\n",
       "    </tr>\n",
       "  </tbody>\n",
       "</table>\n",
       "</div>"
      ],
      "text/plain": [
       "         Timestamp                Name  ...     Result res\n",
       "0   4/5/2021 13:43           Shruthi J  ...  positive    0\n",
       "1   4/5/2021 13:43          Vaishali.k  ...  positive    0\n",
       "2   4/5/2021 13:45     Kishore Kumar R  ...    neutral   1\n",
       "3   4/5/2021 13:46             Karthik  ...  positive    0\n",
       "4   4/5/2021 13:47        Jayasuriya E  ...  positive    0\n",
       "5   4/5/2021 13:48        Mathew Valan  ...  positive    0\n",
       "6   4/5/2021 13:49    Agni prasanth M   ...  positive    0\n",
       "7   4/5/2021 13:49        Naresh Kumar  ...  positive    0\n",
       "8   4/5/2021 13:55          Ridhanya S  ...  positive    0\n",
       "9   4/5/2021 13:55       DINESHKUMAR S  ...  positive    0\n",
       "10  4/5/2021 13:55            Mukish S  ...  positive    0\n",
       "11  4/5/2021 13:57    S.R.Hari shankar  ...  positive    0\n",
       "12  4/5/2021 13:57         Sibikshan K  ...   negative   2\n",
       "13  4/5/2021 13:58       Sundaresan CG  ...    neutral   1\n",
       "14  4/5/2021 13:59    suriya prashanna  ...   negative   2\n",
       "15  4/5/2021 14:04            Jabustin  ...  positive    0\n",
       "16  4/5/2021 14:05        Kishore G K   ...    neutral   1\n",
       "17  4/5/2021 14:06  P.Narean Karthick   ...   negative   2\n",
       "18  4/5/2021 14:07     dhyaneshwaran k  ...   negative   2\n",
       "19  4/5/2021 14:11           Ridhisha   ...  positive    0\n",
       "20  4/5/2021 14:34               Rohan  ...  positive    0\n",
       "21  4/5/2021 14:39             Karthik  ...  positive    0\n",
       "22  4/5/2021 14:39                Arun  ...  positive    0\n",
       "23  4/5/2021 14:40       Nanda Kishore  ...    neutral   1\n",
       "24  4/5/2021 14:40             Srijith  ...  positive    0\n",
       "25  4/5/2021 14:41           Santhosh   ...  positive    0\n",
       "26  4/5/2021 14:52             Nevetha  ...  positive    0\n",
       "27  4/5/2021 14:58           KISHORE.C  ...  positive    0\n",
       "28  4/5/2021 14:59           Ilakiya.S  ...  positive    0\n",
       "29  4/5/2021 15:01         K.gokul ram  ...  positive    0\n",
       "30  4/5/2021 15:01  Nitheyah Raajah S   ...  positive    0\n",
       "31  4/5/2021 15:14           S. Madhan  ...  positive    0\n",
       "32  4/5/2021 15:15            Surya RE  ...  positive    0\n",
       "33  4/5/2021 15:23  GK Kiruthik Sabari  ...  positive    0\n",
       "34  4/5/2021 15:27      Shanmuga Priya  ...  positive    0\n",
       "35  4/5/2021 15:31        Dhamodaran B  ...  positive    0\n",
       "36  4/5/2021 15:38           Shamruthi  ...  positive    0\n",
       "37  4/5/2021 16:07            Sunmathi  ...  positive    0\n",
       "38  4/5/2021 16:08            Suhasini  ...  positive    0\n",
       "39  4/5/2021 16:14   Saran Prasath A R  ...  positive    0\n",
       "\n",
       "[40 rows x 7 columns]"
      ]
     },
     "execution_count": 9,
     "metadata": {
      "tags": []
     },
     "output_type": "execute_result"
    }
   ],
   "source": [
    "data.head(40)"
   ]
  },
  {
   "cell_type": "code",
   "execution_count": null,
   "metadata": {
    "colab": {
     "base_uri": "https://localhost:8080/"
    },
    "executionInfo": {
     "elapsed": 1098,
     "status": "ok",
     "timestamp": 1619272216839,
     "user": {
      "displayName": "Gokulram K",
      "photoUrl": "",
      "userId": "14437931993620132200"
     },
     "user_tz": -330
    },
    "id": "frjwug7fR8RL",
    "outputId": "bc2cfefe-872a-4baa-dff8-9043b1d423ad"
   },
   "outputs": [
    {
     "data": {
      "text/plain": [
       "(70, 7)"
      ]
     },
     "execution_count": 10,
     "metadata": {
      "tags": []
     },
     "output_type": "execute_result"
    }
   ],
   "source": [
    "data.shape"
   ]
  },
  {
   "cell_type": "code",
   "execution_count": null,
   "metadata": {
    "colab": {
     "base_uri": "https://localhost:8080/"
    },
    "executionInfo": {
     "elapsed": 887,
     "status": "ok",
     "timestamp": 1619272218095,
     "user": {
      "displayName": "Gokulram K",
      "photoUrl": "",
      "userId": "14437931993620132200"
     },
     "user_tz": -330
    },
    "id": "C2gmt0oeSEzp",
    "outputId": "501bc62b-aa02-48cb-b2be-38be91115902"
   },
   "outputs": [
    {
     "data": {
      "text/plain": [
       "70"
      ]
     },
     "execution_count": 11,
     "metadata": {
      "tags": []
     },
     "output_type": "execute_result"
    }
   ],
   "source": [
    "data.shape[0]"
   ]
  },
  {
   "cell_type": "code",
   "execution_count": null,
   "metadata": {
    "colab": {
     "base_uri": "https://localhost:8080/"
    },
    "executionInfo": {
     "elapsed": 1472,
     "status": "ok",
     "timestamp": 1619272219971,
     "user": {
      "displayName": "Gokulram K",
      "photoUrl": "",
      "userId": "14437931993620132200"
     },
     "user_tz": -330
    },
    "id": "NZCaID-TSIS1",
    "outputId": "c6e6ea14-82b4-4eef-868a-f5d5fd21b554"
   },
   "outputs": [
    {
     "data": {
      "text/plain": [
       "7"
      ]
     },
     "execution_count": 12,
     "metadata": {
      "tags": []
     },
     "output_type": "execute_result"
    }
   ],
   "source": [
    "data.shape[1]"
   ]
  },
  {
   "cell_type": "code",
   "execution_count": null,
   "metadata": {
    "colab": {
     "base_uri": "https://localhost:8080/",
     "height": 284
    },
    "executionInfo": {
     "elapsed": 881,
     "status": "ok",
     "timestamp": 1619272220965,
     "user": {
      "displayName": "Gokulram K",
      "photoUrl": "",
      "userId": "14437931993620132200"
     },
     "user_tz": -330
    },
    "id": "rFkgw6s4SKR6",
    "outputId": "6bcd8791-a52e-4459-cd97-b54532a6d9fe"
   },
   "outputs": [
    {
     "data": {
      "text/html": [
       "<div>\n",
       "<style scoped>\n",
       "    .dataframe tbody tr th:only-of-type {\n",
       "        vertical-align: middle;\n",
       "    }\n",
       "\n",
       "    .dataframe tbody tr th {\n",
       "        vertical-align: top;\n",
       "    }\n",
       "\n",
       "    .dataframe thead th {\n",
       "        text-align: right;\n",
       "    }\n",
       "</style>\n",
       "<table border=\"1\" class=\"dataframe\">\n",
       "  <thead>\n",
       "    <tr style=\"text-align: right;\">\n",
       "      <th></th>\n",
       "      <th>res</th>\n",
       "    </tr>\n",
       "  </thead>\n",
       "  <tbody>\n",
       "    <tr>\n",
       "      <th>count</th>\n",
       "      <td>70.000000</td>\n",
       "    </tr>\n",
       "    <tr>\n",
       "      <th>mean</th>\n",
       "      <td>0.371429</td>\n",
       "    </tr>\n",
       "    <tr>\n",
       "      <th>std</th>\n",
       "      <td>0.705495</td>\n",
       "    </tr>\n",
       "    <tr>\n",
       "      <th>min</th>\n",
       "      <td>0.000000</td>\n",
       "    </tr>\n",
       "    <tr>\n",
       "      <th>25%</th>\n",
       "      <td>0.000000</td>\n",
       "    </tr>\n",
       "    <tr>\n",
       "      <th>50%</th>\n",
       "      <td>0.000000</td>\n",
       "    </tr>\n",
       "    <tr>\n",
       "      <th>75%</th>\n",
       "      <td>0.000000</td>\n",
       "    </tr>\n",
       "    <tr>\n",
       "      <th>max</th>\n",
       "      <td>2.000000</td>\n",
       "    </tr>\n",
       "  </tbody>\n",
       "</table>\n",
       "</div>"
      ],
      "text/plain": [
       "             res\n",
       "count  70.000000\n",
       "mean    0.371429\n",
       "std     0.705495\n",
       "min     0.000000\n",
       "25%     0.000000\n",
       "50%     0.000000\n",
       "75%     0.000000\n",
       "max     2.000000"
      ]
     },
     "execution_count": 13,
     "metadata": {
      "tags": []
     },
     "output_type": "execute_result"
    }
   ],
   "source": [
    "data.describe()"
   ]
  },
  {
   "cell_type": "code",
   "execution_count": null,
   "metadata": {
    "colab": {
     "base_uri": "https://localhost:8080/",
     "height": 343
    },
    "executionInfo": {
     "elapsed": 1113,
     "status": "ok",
     "timestamp": 1619272222583,
     "user": {
      "displayName": "Gokulram K",
      "photoUrl": "",
      "userId": "14437931993620132200"
     },
     "user_tz": -330
    },
    "id": "XqHKPQ_qSSuB",
    "outputId": "eb8090eb-4f56-4ba6-9dfa-ea30cf0c3dbe"
   },
   "outputs": [
    {
     "data": {
      "text/html": [
       "<div>\n",
       "<style scoped>\n",
       "    .dataframe tbody tr th:only-of-type {\n",
       "        vertical-align: middle;\n",
       "    }\n",
       "\n",
       "    .dataframe tbody tr th {\n",
       "        vertical-align: top;\n",
       "    }\n",
       "\n",
       "    .dataframe thead th {\n",
       "        text-align: right;\n",
       "    }\n",
       "</style>\n",
       "<table border=\"1\" class=\"dataframe\">\n",
       "  <thead>\n",
       "    <tr style=\"text-align: right;\">\n",
       "      <th></th>\n",
       "      <th>Timestamp</th>\n",
       "      <th>Name</th>\n",
       "      <th>Course</th>\n",
       "      <th>Year of Study</th>\n",
       "      <th>Description</th>\n",
       "      <th>Result</th>\n",
       "      <th>res</th>\n",
       "    </tr>\n",
       "  </thead>\n",
       "  <tbody>\n",
       "    <tr>\n",
       "      <th>0</th>\n",
       "      <td>4/5/2021 13:43</td>\n",
       "      <td>Shruthi J</td>\n",
       "      <td>M.Sc</td>\n",
       "      <td>2</td>\n",
       "      <td>Awesome</td>\n",
       "      <td>positive</td>\n",
       "      <td>0</td>\n",
       "    </tr>\n",
       "    <tr>\n",
       "      <th>1</th>\n",
       "      <td>4/5/2021 13:43</td>\n",
       "      <td>Vaishali.k</td>\n",
       "      <td>M.Sc</td>\n",
       "      <td>2</td>\n",
       "      <td>80%</td>\n",
       "      <td>positive</td>\n",
       "      <td>0</td>\n",
       "    </tr>\n",
       "    <tr>\n",
       "      <th>2</th>\n",
       "      <td>4/5/2021 13:45</td>\n",
       "      <td>Kishore Kumar R</td>\n",
       "      <td>M.Sc</td>\n",
       "      <td>2</td>\n",
       "      <td>Not bad.</td>\n",
       "      <td>neutral</td>\n",
       "      <td>1</td>\n",
       "    </tr>\n",
       "    <tr>\n",
       "      <th>3</th>\n",
       "      <td>4/5/2021 13:46</td>\n",
       "      <td>Karthik</td>\n",
       "      <td>M.Sc</td>\n",
       "      <td>1</td>\n",
       "      <td>good</td>\n",
       "      <td>positive</td>\n",
       "      <td>0</td>\n",
       "    </tr>\n",
       "    <tr>\n",
       "      <th>4</th>\n",
       "      <td>4/5/2021 13:47</td>\n",
       "      <td>Jayasuriya E</td>\n",
       "      <td>M.Sc</td>\n",
       "      <td>2</td>\n",
       "      <td>I feel great.class are going really well compa...</td>\n",
       "      <td>positive</td>\n",
       "      <td>0</td>\n",
       "    </tr>\n",
       "    <tr>\n",
       "      <th>5</th>\n",
       "      <td>4/5/2021 13:48</td>\n",
       "      <td>Mathew Valan</td>\n",
       "      <td>M.Sc</td>\n",
       "      <td>1</td>\n",
       "      <td>Good\\n</td>\n",
       "      <td>positive</td>\n",
       "      <td>0</td>\n",
       "    </tr>\n",
       "    <tr>\n",
       "      <th>6</th>\n",
       "      <td>4/5/2021 13:49</td>\n",
       "      <td>Agni prasanth M</td>\n",
       "      <td>M.Sc</td>\n",
       "      <td>1</td>\n",
       "      <td>Good\\n</td>\n",
       "      <td>positive</td>\n",
       "      <td>0</td>\n",
       "    </tr>\n",
       "    <tr>\n",
       "      <th>7</th>\n",
       "      <td>4/5/2021 13:49</td>\n",
       "      <td>Naresh Kumar</td>\n",
       "      <td>M.Sc</td>\n",
       "      <td>2</td>\n",
       "      <td>Felt good , but had some issues too. The colle...</td>\n",
       "      <td>positive</td>\n",
       "      <td>0</td>\n",
       "    </tr>\n",
       "    <tr>\n",
       "      <th>8</th>\n",
       "      <td>4/5/2021 13:55</td>\n",
       "      <td>Ridhanya S</td>\n",
       "      <td>M.Sc</td>\n",
       "      <td>2</td>\n",
       "      <td>A growing experience</td>\n",
       "      <td>positive</td>\n",
       "      <td>0</td>\n",
       "    </tr>\n",
       "    <tr>\n",
       "      <th>9</th>\n",
       "      <td>4/5/2021 13:55</td>\n",
       "      <td>DINESHKUMAR S</td>\n",
       "      <td>M.Sc</td>\n",
       "      <td>1</td>\n",
       "      <td>Everything fine</td>\n",
       "      <td>positive</td>\n",
       "      <td>0</td>\n",
       "    </tr>\n",
       "  </tbody>\n",
       "</table>\n",
       "</div>"
      ],
      "text/plain": [
       "        Timestamp              Name  ...     Result res\n",
       "0  4/5/2021 13:43         Shruthi J  ...  positive    0\n",
       "1  4/5/2021 13:43        Vaishali.k  ...  positive    0\n",
       "2  4/5/2021 13:45   Kishore Kumar R  ...    neutral   1\n",
       "3  4/5/2021 13:46           Karthik  ...  positive    0\n",
       "4  4/5/2021 13:47      Jayasuriya E  ...  positive    0\n",
       "5  4/5/2021 13:48      Mathew Valan  ...  positive    0\n",
       "6  4/5/2021 13:49  Agni prasanth M   ...  positive    0\n",
       "7  4/5/2021 13:49      Naresh Kumar  ...  positive    0\n",
       "8  4/5/2021 13:55        Ridhanya S  ...  positive    0\n",
       "9  4/5/2021 13:55     DINESHKUMAR S  ...  positive    0\n",
       "\n",
       "[10 rows x 7 columns]"
      ]
     },
     "execution_count": 14,
     "metadata": {
      "tags": []
     },
     "output_type": "execute_result"
    }
   ],
   "source": [
    "data.head(10)"
   ]
  },
  {
   "cell_type": "code",
   "execution_count": null,
   "metadata": {
    "colab": {
     "base_uri": "https://localhost:8080/",
     "height": 343
    },
    "executionInfo": {
     "elapsed": 1142,
     "status": "ok",
     "timestamp": 1619272224069,
     "user": {
      "displayName": "Gokulram K",
      "photoUrl": "",
      "userId": "14437931993620132200"
     },
     "user_tz": -330
    },
    "id": "BxBREXA-SXEm",
    "outputId": "3b88e551-3990-4821-c357-22c34bba8aa0"
   },
   "outputs": [
    {
     "data": {
      "text/html": [
       "<div>\n",
       "<style scoped>\n",
       "    .dataframe tbody tr th:only-of-type {\n",
       "        vertical-align: middle;\n",
       "    }\n",
       "\n",
       "    .dataframe tbody tr th {\n",
       "        vertical-align: top;\n",
       "    }\n",
       "\n",
       "    .dataframe thead th {\n",
       "        text-align: right;\n",
       "    }\n",
       "</style>\n",
       "<table border=\"1\" class=\"dataframe\">\n",
       "  <thead>\n",
       "    <tr style=\"text-align: right;\">\n",
       "      <th></th>\n",
       "      <th>Timestamp</th>\n",
       "      <th>Name</th>\n",
       "      <th>Course</th>\n",
       "      <th>Year of Study</th>\n",
       "      <th>Description</th>\n",
       "      <th>Result</th>\n",
       "      <th>res</th>\n",
       "    </tr>\n",
       "  </thead>\n",
       "  <tbody>\n",
       "    <tr>\n",
       "      <th>60</th>\n",
       "      <td>4/6/2021 10:11</td>\n",
       "      <td>AATHEESWARAN M</td>\n",
       "      <td>M.Sc</td>\n",
       "      <td>2</td>\n",
       "      <td>Good college.</td>\n",
       "      <td>positive</td>\n",
       "      <td>0</td>\n",
       "    </tr>\n",
       "    <tr>\n",
       "      <th>61</th>\n",
       "      <td>4/6/2021 10:14</td>\n",
       "      <td>Harshavardhan</td>\n",
       "      <td>B.E</td>\n",
       "      <td>4</td>\n",
       "      <td>H</td>\n",
       "      <td>positive</td>\n",
       "      <td>0</td>\n",
       "    </tr>\n",
       "    <tr>\n",
       "      <th>62</th>\n",
       "      <td>4/6/2021 19:04</td>\n",
       "      <td>Prakalya</td>\n",
       "      <td>M.Sc</td>\n",
       "      <td>1</td>\n",
       "      <td>Good as we interact with friends and exploring...</td>\n",
       "      <td>positive</td>\n",
       "      <td>0</td>\n",
       "    </tr>\n",
       "    <tr>\n",
       "      <th>63</th>\n",
       "      <td>4/7/2021 9:29</td>\n",
       "      <td>DEEPA SHANMUGAM</td>\n",
       "      <td>MCA</td>\n",
       "      <td>2</td>\n",
       "      <td>Its good</td>\n",
       "      <td>positive</td>\n",
       "      <td>0</td>\n",
       "    </tr>\n",
       "    <tr>\n",
       "      <th>64</th>\n",
       "      <td>7/4/2021 10:46</td>\n",
       "      <td>SRUTI.L</td>\n",
       "      <td>B.E</td>\n",
       "      <td>2</td>\n",
       "      <td>Good</td>\n",
       "      <td>positive</td>\n",
       "      <td>0</td>\n",
       "    </tr>\n",
       "    <tr>\n",
       "      <th>65</th>\n",
       "      <td>8/4/2021 10:46</td>\n",
       "      <td>Surya</td>\n",
       "      <td>B.E</td>\n",
       "      <td>2</td>\n",
       "      <td>Good</td>\n",
       "      <td>positive</td>\n",
       "      <td>0</td>\n",
       "    </tr>\n",
       "    <tr>\n",
       "      <th>66</th>\n",
       "      <td>8/4/2021 7:00</td>\n",
       "      <td>Kavya Kannan</td>\n",
       "      <td>M.Sc</td>\n",
       "      <td>II</td>\n",
       "      <td>It? the best and the most lovable journey that...</td>\n",
       "      <td>positive</td>\n",
       "      <td>0</td>\n",
       "    </tr>\n",
       "    <tr>\n",
       "      <th>67</th>\n",
       "      <td>12/4/2021 10:04</td>\n",
       "      <td>Janani. T</td>\n",
       "      <td>B.E</td>\n",
       "      <td>III</td>\n",
       "      <td>Good and useful</td>\n",
       "      <td>positive</td>\n",
       "      <td>0</td>\n",
       "    </tr>\n",
       "    <tr>\n",
       "      <th>68</th>\n",
       "      <td>12/4/2021 10:47</td>\n",
       "      <td>Arun d</td>\n",
       "      <td>M.Sc</td>\n",
       "      <td>I</td>\n",
       "      <td>M</td>\n",
       "      <td>neutral</td>\n",
       "      <td>1</td>\n",
       "    </tr>\n",
       "    <tr>\n",
       "      <th>69</th>\n",
       "      <td>5/4/2021 22:40</td>\n",
       "      <td>Niranjana</td>\n",
       "      <td>M.Sc</td>\n",
       "      <td>II</td>\n",
       "      <td>Hostel life is the best as far as CIT concerned.</td>\n",
       "      <td>positive</td>\n",
       "      <td>0</td>\n",
       "    </tr>\n",
       "  </tbody>\n",
       "</table>\n",
       "</div>"
      ],
      "text/plain": [
       "          Timestamp             Name  ...     Result res\n",
       "60   4/6/2021 10:11   AATHEESWARAN M  ...  positive    0\n",
       "61   4/6/2021 10:14    Harshavardhan  ...  positive    0\n",
       "62   4/6/2021 19:04         Prakalya  ...  positive    0\n",
       "63    4/7/2021 9:29  DEEPA SHANMUGAM  ...  positive    0\n",
       "64   7/4/2021 10:46          SRUTI.L  ...  positive    0\n",
       "65   8/4/2021 10:46            Surya  ...  positive    0\n",
       "66    8/4/2021 7:00     Kavya Kannan  ...  positive    0\n",
       "67  12/4/2021 10:04        Janani. T  ...  positive    0\n",
       "68  12/4/2021 10:47           Arun d  ...    neutral   1\n",
       "69   5/4/2021 22:40        Niranjana  ...  positive    0\n",
       "\n",
       "[10 rows x 7 columns]"
      ]
     },
     "execution_count": 15,
     "metadata": {
      "tags": []
     },
     "output_type": "execute_result"
    }
   ],
   "source": [
    "data.tail(10)"
   ]
  },
  {
   "cell_type": "code",
   "execution_count": null,
   "metadata": {
    "colab": {
     "base_uri": "https://localhost:8080/"
    },
    "executionInfo": {
     "elapsed": 884,
     "status": "ok",
     "timestamp": 1619272225248,
     "user": {
      "displayName": "Gokulram K",
      "photoUrl": "",
      "userId": "14437931993620132200"
     },
     "user_tz": -330
    },
    "id": "B6J8vecWSZZG",
    "outputId": "f946b27e-9479-4f4b-bcba-b886d9298c14"
   },
   "outputs": [
    {
     "data": {
      "text/plain": [
       "60"
      ]
     },
     "execution_count": 16,
     "metadata": {
      "tags": []
     },
     "output_type": "execute_result"
    }
   ],
   "source": [
    "pd.options.display.max_rows"
   ]
  },
  {
   "cell_type": "code",
   "execution_count": null,
   "metadata": {
    "colab": {
     "base_uri": "https://localhost:8080/"
    },
    "executionInfo": {
     "elapsed": 1296,
     "status": "ok",
     "timestamp": 1619272226911,
     "user": {
      "displayName": "Gokulram K",
      "photoUrl": "",
      "userId": "14437931993620132200"
     },
     "user_tz": -330
    },
    "id": "VRkg46jISdvE",
    "outputId": "ee1ce700-c60d-4a00-cb0a-03ad51da39d8"
   },
   "outputs": [
    {
     "data": {
      "text/plain": [
       "0"
      ]
     },
     "execution_count": 17,
     "metadata": {
      "tags": []
     },
     "output_type": "execute_result"
    }
   ],
   "source": [
    "pd.options.display.max_columns"
   ]
  },
  {
   "cell_type": "code",
   "execution_count": null,
   "metadata": {
    "id": "hnd_sU_KSh-h"
   },
   "outputs": [],
   "source": [
    "pd.set_option('display.max_rows',500)"
   ]
  },
  {
   "cell_type": "code",
   "execution_count": null,
   "metadata": {
    "id": "Nd8kxu69Sm9Z"
   },
   "outputs": [],
   "source": [
    "pd.set_option('display.max_columns',500)"
   ]
  },
  {
   "cell_type": "code",
   "execution_count": null,
   "metadata": {
    "id": "zOqCFuI-SpEr"
   },
   "outputs": [],
   "source": [
    "pd.set_option('display.width',1000)"
   ]
  },
  {
   "cell_type": "code",
   "execution_count": null,
   "metadata": {
    "colab": {
     "base_uri": "https://localhost:8080/"
    },
    "executionInfo": {
     "elapsed": 1525,
     "status": "ok",
     "timestamp": 1619272233053,
     "user": {
      "displayName": "Gokulram K",
      "photoUrl": "",
      "userId": "14437931993620132200"
     },
     "user_tz": -330
    },
    "id": "Xb3fFvZKXuht",
    "outputId": "272d9896-acbc-441c-8e11-1531ef8ce29a"
   },
   "outputs": [
    {
     "name": "stdout",
     "output_type": "stream",
     "text": [
      "<class 'pandas.core.frame.DataFrame'>\n",
      "RangeIndex: 70 entries, 0 to 69\n",
      "Data columns (total 7 columns):\n",
      " #   Column         Non-Null Count  Dtype \n",
      "---  ------         --------------  ----- \n",
      " 0   Timestamp      70 non-null     object\n",
      " 1   Name           70 non-null     object\n",
      " 2   Course         70 non-null     object\n",
      " 3   Year of Study  70 non-null     object\n",
      " 4   Description    70 non-null     object\n",
      " 5   Result         70 non-null     object\n",
      " 6   res            70 non-null     int64 \n",
      "dtypes: int64(1), object(6)\n",
      "memory usage: 4.0+ KB\n"
     ]
    }
   ],
   "source": [
    "data.info()"
   ]
  },
  {
   "cell_type": "code",
   "execution_count": null,
   "metadata": {
    "colab": {
     "base_uri": "https://localhost:8080/"
    },
    "executionInfo": {
     "elapsed": 918,
     "status": "ok",
     "timestamp": 1619272234272,
     "user": {
      "displayName": "Gokulram K",
      "photoUrl": "",
      "userId": "14437931993620132200"
     },
     "user_tz": -330
    },
    "id": "ikcebDdTYQrt",
    "outputId": "61062d88-51c6-42cb-a08b-1d0c16a3f3a9"
   },
   "outputs": [
    {
     "data": {
      "text/plain": [
       "Timestamp        object\n",
       "Name             object\n",
       "Course           object\n",
       "Year of Study    object\n",
       "Description      object\n",
       "Result           object\n",
       "res               int64\n",
       "dtype: object"
      ]
     },
     "execution_count": 22,
     "metadata": {
      "tags": []
     },
     "output_type": "execute_result"
    }
   ],
   "source": [
    "data.dtypes"
   ]
  },
  {
   "cell_type": "code",
   "execution_count": null,
   "metadata": {
    "colab": {
     "base_uri": "https://localhost:8080/"
    },
    "executionInfo": {
     "elapsed": 1261,
     "status": "ok",
     "timestamp": 1619272235913,
     "user": {
      "displayName": "Gokulram K",
      "photoUrl": "",
      "userId": "14437931993620132200"
     },
     "user_tz": -330
    },
    "id": "g0aYuUJ4YUNn",
    "outputId": "34758ac0-d58b-437d-8da6-9dce9265ad82"
   },
   "outputs": [
    {
     "data": {
      "text/plain": [
       "Timestamp        62\n",
       "Name             69\n",
       "Course            4\n",
       "Year of Study     7\n",
       "Description      62\n",
       "Result            3\n",
       "res               3\n",
       "dtype: int64"
      ]
     },
     "execution_count": 23,
     "metadata": {
      "tags": []
     },
     "output_type": "execute_result"
    }
   ],
   "source": [
    "data.nunique()"
   ]
  },
  {
   "cell_type": "code",
   "execution_count": null,
   "metadata": {
    "colab": {
     "base_uri": "https://localhost:8080/"
    },
    "executionInfo": {
     "elapsed": 1092,
     "status": "ok",
     "timestamp": 1619272237151,
     "user": {
      "displayName": "Gokulram K",
      "photoUrl": "",
      "userId": "14437931993620132200"
     },
     "user_tz": -330
    },
    "id": "NtygYq0rYW2U",
    "outputId": "71a738f1-6842-45ad-a3af-cd9461874a18"
   },
   "outputs": [
    {
     "data": {
      "text/plain": [
       "Karthik               2\n",
       "Santhosh              1\n",
       "Nevetha               1\n",
       "Suhasini              1\n",
       "K.B.selvaruban        1\n",
       "P.Narean Karthick     1\n",
       "DINESHKUMAR S         1\n",
       "Arun d                1\n",
       "VIGNESH B             1\n",
       "Vaishali.k            1\n",
       "GK Kiruthik Sabari    1\n",
       "Sunmathi              1\n",
       "Surya                 1\n",
       "Jabustin              1\n",
       "Harisudhan            1\n",
       "Dharnesh              1\n",
       "Ridhisha              1\n",
       "SILAMBARASAN          1\n",
       "Sanjaypranav          1\n",
       "Rohan                 1\n",
       "KISHORE.C             1\n",
       "Shanmuga Priya        1\n",
       "Sundaresan CG         1\n",
       "Sibikshan K           1\n",
       "Shamruthi             1\n",
       "Prakalya              1\n",
       "Kavya Kannan          1\n",
       "Surya RE              1\n",
       "Srijith               1\n",
       "Harshavardhan         1\n",
       "Ilakiya.S             1\n",
       "S.R.Hari shankar      1\n",
       "S. Madhan             1\n",
       "Revanth               1\n",
       "Saran Prasath A R     1\n",
       "SRUTI.L               1\n",
       "Agni prasanth M       1\n",
       "P.Karthika            1\n",
       "AATHEESWARAN M        1\n",
       "DEEPA SHANMUGAM       1\n",
       "Harsan                1\n",
       "Sherin                1\n",
       "Arun                  1\n",
       "ARAVIND               1\n",
       "Janani. T             1\n",
       "Naresh Kumar          1\n",
       "Nitheyah Raajah S     1\n",
       "Sudharshan            1\n",
       "Shruthi J             1\n",
       "Sudarsan              1\n",
       "VISHAL D              1\n",
       "ARUNKRISHNA V         1\n",
       "Niranjana             1\n",
       "Barath S              1\n",
       "Shree Varshini R P    1\n",
       "Jayasuriya E          1\n",
       "Uthra S               1\n",
       "suriya prashanna      1\n",
       "Kousika M             1\n",
       "Mukish S              1\n",
       "Nanda Kishore         1\n",
       "K.gokul ram           1\n",
       "dhyaneshwaran k       1\n",
       "Ridhanya S            1\n",
       "Kishore Kumar R       1\n",
       "Dhamodaran B          1\n",
       "Mathew Valan          1\n",
       "Kishore G K           1\n",
       "Vignavel              1\n",
       "Name: Name, dtype: int64"
      ]
     },
     "execution_count": 24,
     "metadata": {
      "tags": []
     },
     "output_type": "execute_result"
    }
   ],
   "source": [
    "data.iloc[:,1].value_counts()"
   ]
  },
  {
   "cell_type": "code",
   "execution_count": null,
   "metadata": {
    "colab": {
     "base_uri": "https://localhost:8080/",
     "height": 340
    },
    "executionInfo": {
     "elapsed": 1851,
     "status": "ok",
     "timestamp": 1619272239395,
     "user": {
      "displayName": "Gokulram K",
      "photoUrl": "",
      "userId": "14437931993620132200"
     },
     "user_tz": -330
    },
    "id": "zIkZO27qYZTL",
    "outputId": "be601428-4fd5-4472-af9a-35265f7dd6a6"
   },
   "outputs": [
    {
     "data": {
      "text/plain": [
       "<matplotlib.axes._subplots.AxesSubplot at 0x7f05b26e5490>"
      ]
     },
     "execution_count": 25,
     "metadata": {
      "tags": []
     },
     "output_type": "execute_result"
    },
    {
     "data": {
      "image/png": "[encoded data removed]",
      "text/plain": [
       "<Figure size 432x288 with 1 Axes>"
      ]
     },
     "metadata": {
      "needs_background": "light",
      "tags": []
     },
     "output_type": "display_data"
    }
   ],
   "source": [
    "data.isnull().sum()\n",
    "sns.heatmap(data.isnull(),cbar=False)"
   ]
  },
  {
   "cell_type": "code",
   "execution_count": null,
   "metadata": {
    "colab": {
     "base_uri": "https://localhost:8080/",
     "height": 35
    },
    "executionInfo": {
     "elapsed": 781,
     "status": "ok",
     "timestamp": 1619272239806,
     "user": {
      "displayName": "Gokulram K",
      "photoUrl": "",
      "userId": "14437931993620132200"
     },
     "user_tz": -330
    },
    "id": "ZLAq1B1AYb31",
    "outputId": "24ee4fe4-9251-4929-be11-7fdfb61a8b0e"
   },
   "outputs": [
    {
     "data": {
      "application/vnd.google.colaboratory.intrinsic+json": {
       "type": "string"
      },
      "text/plain": [
       "'4/5/2021 13:43'"
      ]
     },
     "execution_count": 26,
     "metadata": {
      "tags": []
     },
     "output_type": "execute_result"
    }
   ],
   "source": [
    "data.iloc[0,0]"
   ]
  },
  {
   "cell_type": "code",
   "execution_count": null,
   "metadata": {
    "colab": {
     "base_uri": "https://localhost:8080/",
     "height": 1000
    },
    "executionInfo": {
     "elapsed": 1235,
     "status": "ok",
     "timestamp": 1619272242059,
     "user": {
      "displayName": "Gokulram K",
      "photoUrl": "",
      "userId": "14437931993620132200"
     },
     "user_tz": -330
    },
    "id": "LOtjYkiiY3nT",
    "outputId": "773eb5a0-1537-4f92-bfc5-f2c7c1677f59"
   },
   "outputs": [
    {
     "data": {
      "text/html": [
       "<div>\n",
       "<style scoped>\n",
       "    .dataframe tbody tr th:only-of-type {\n",
       "        vertical-align: middle;\n",
       "    }\n",
       "\n",
       "    .dataframe tbody tr th {\n",
       "        vertical-align: top;\n",
       "    }\n",
       "\n",
       "    .dataframe thead th {\n",
       "        text-align: right;\n",
       "    }\n",
       "</style>\n",
       "<table border=\"1\" class=\"dataframe\">\n",
       "  <thead>\n",
       "    <tr style=\"text-align: right;\">\n",
       "      <th></th>\n",
       "      <th>Timestamp</th>\n",
       "      <th>Name</th>\n",
       "      <th>Course</th>\n",
       "      <th>Year of Study</th>\n",
       "      <th>Description</th>\n",
       "      <th>Result</th>\n",
       "      <th>res</th>\n",
       "    </tr>\n",
       "  </thead>\n",
       "  <tbody>\n",
       "    <tr>\n",
       "      <th>0</th>\n",
       "      <td>False</td>\n",
       "      <td>False</td>\n",
       "      <td>False</td>\n",
       "      <td>False</td>\n",
       "      <td>False</td>\n",
       "      <td>False</td>\n",
       "      <td>False</td>\n",
       "    </tr>\n",
       "    <tr>\n",
       "      <th>1</th>\n",
       "      <td>False</td>\n",
       "      <td>False</td>\n",
       "      <td>False</td>\n",
       "      <td>False</td>\n",
       "      <td>False</td>\n",
       "      <td>False</td>\n",
       "      <td>False</td>\n",
       "    </tr>\n",
       "    <tr>\n",
       "      <th>2</th>\n",
       "      <td>False</td>\n",
       "      <td>False</td>\n",
       "      <td>False</td>\n",
       "      <td>False</td>\n",
       "      <td>False</td>\n",
       "      <td>False</td>\n",
       "      <td>False</td>\n",
       "    </tr>\n",
       "    <tr>\n",
       "      <th>3</th>\n",
       "      <td>False</td>\n",
       "      <td>False</td>\n",
       "      <td>False</td>\n",
       "      <td>False</td>\n",
       "      <td>False</td>\n",
       "      <td>False</td>\n",
       "      <td>False</td>\n",
       "    </tr>\n",
       "    <tr>\n",
       "      <th>4</th>\n",
       "      <td>False</td>\n",
       "      <td>False</td>\n",
       "      <td>False</td>\n",
       "      <td>False</td>\n",
       "      <td>False</td>\n",
       "      <td>False</td>\n",
       "      <td>False</td>\n",
       "    </tr>\n",
       "    <tr>\n",
       "      <th>5</th>\n",
       "      <td>False</td>\n",
       "      <td>False</td>\n",
       "      <td>False</td>\n",
       "      <td>False</td>\n",
       "      <td>False</td>\n",
       "      <td>False</td>\n",
       "      <td>False</td>\n",
       "    </tr>\n",
       "    <tr>\n",
       "      <th>6</th>\n",
       "      <td>False</td>\n",
       "      <td>False</td>\n",
       "      <td>False</td>\n",
       "      <td>False</td>\n",
       "      <td>False</td>\n",
       "      <td>False</td>\n",
       "      <td>False</td>\n",
       "    </tr>\n",
       "    <tr>\n",
       "      <th>7</th>\n",
       "      <td>False</td>\n",
       "      <td>False</td>\n",
       "      <td>False</td>\n",
       "      <td>False</td>\n",
       "      <td>False</td>\n",
       "      <td>False</td>\n",
       "      <td>False</td>\n",
       "    </tr>\n",
       "    <tr>\n",
       "      <th>8</th>\n",
       "      <td>False</td>\n",
       "      <td>False</td>\n",
       "      <td>False</td>\n",
       "      <td>False</td>\n",
       "      <td>False</td>\n",
       "      <td>False</td>\n",
       "      <td>False</td>\n",
       "    </tr>\n",
       "    <tr>\n",
       "      <th>9</th>\n",
       "      <td>False</td>\n",
       "      <td>False</td>\n",
       "      <td>False</td>\n",
       "      <td>False</td>\n",
       "      <td>False</td>\n",
       "      <td>False</td>\n",
       "      <td>False</td>\n",
       "    </tr>\n",
       "    <tr>\n",
       "      <th>10</th>\n",
       "      <td>False</td>\n",
       "      <td>False</td>\n",
       "      <td>False</td>\n",
       "      <td>False</td>\n",
       "      <td>False</td>\n",
       "      <td>False</td>\n",
       "      <td>False</td>\n",
       "    </tr>\n",
       "    <tr>\n",
       "      <th>11</th>\n",
       "      <td>False</td>\n",
       "      <td>False</td>\n",
       "      <td>False</td>\n",
       "      <td>False</td>\n",
       "      <td>False</td>\n",
       "      <td>False</td>\n",
       "      <td>False</td>\n",
       "    </tr>\n",
       "    <tr>\n",
       "      <th>12</th>\n",
       "      <td>False</td>\n",
       "      <td>False</td>\n",
       "      <td>False</td>\n",
       "      <td>False</td>\n",
       "      <td>False</td>\n",
       "      <td>False</td>\n",
       "      <td>False</td>\n",
       "    </tr>\n",
       "    <tr>\n",
       "      <th>13</th>\n",
       "      <td>False</td>\n",
       "      <td>False</td>\n",
       "      <td>False</td>\n",
       "      <td>False</td>\n",
       "      <td>False</td>\n",
       "      <td>False</td>\n",
       "      <td>False</td>\n",
       "    </tr>\n",
       "    <tr>\n",
       "      <th>14</th>\n",
       "      <td>False</td>\n",
       "      <td>False</td>\n",
       "      <td>False</td>\n",
       "      <td>False</td>\n",
       "      <td>False</td>\n",
       "      <td>False</td>\n",
       "      <td>False</td>\n",
       "    </tr>\n",
       "    <tr>\n",
       "      <th>15</th>\n",
       "      <td>False</td>\n",
       "      <td>False</td>\n",
       "      <td>False</td>\n",
       "      <td>False</td>\n",
       "      <td>False</td>\n",
       "      <td>False</td>\n",
       "      <td>False</td>\n",
       "    </tr>\n",
       "    <tr>\n",
       "      <th>16</th>\n",
       "      <td>False</td>\n",
       "      <td>False</td>\n",
       "      <td>False</td>\n",
       "      <td>False</td>\n",
       "      <td>False</td>\n",
       "      <td>False</td>\n",
       "      <td>False</td>\n",
       "    </tr>\n",
       "    <tr>\n",
       "      <th>17</th>\n",
       "      <td>False</td>\n",
       "      <td>False</td>\n",
       "      <td>False</td>\n",
       "      <td>False</td>\n",
       "      <td>False</td>\n",
       "      <td>False</td>\n",
       "      <td>False</td>\n",
       "    </tr>\n",
       "    <tr>\n",
       "      <th>18</th>\n",
       "      <td>False</td>\n",
       "      <td>False</td>\n",
       "      <td>False</td>\n",
       "      <td>False</td>\n",
       "      <td>False</td>\n",
       "      <td>False</td>\n",
       "      <td>False</td>\n",
       "    </tr>\n",
       "    <tr>\n",
       "      <th>19</th>\n",
       "      <td>False</td>\n",
       "      <td>False</td>\n",
       "      <td>False</td>\n",
       "      <td>False</td>\n",
       "      <td>False</td>\n",
       "      <td>False</td>\n",
       "      <td>False</td>\n",
       "    </tr>\n",
       "    <tr>\n",
       "      <th>20</th>\n",
       "      <td>False</td>\n",
       "      <td>False</td>\n",
       "      <td>False</td>\n",
       "      <td>False</td>\n",
       "      <td>False</td>\n",
       "      <td>False</td>\n",
       "      <td>False</td>\n",
       "    </tr>\n",
       "    <tr>\n",
       "      <th>21</th>\n",
       "      <td>False</td>\n",
       "      <td>False</td>\n",
       "      <td>False</td>\n",
       "      <td>False</td>\n",
       "      <td>False</td>\n",
       "      <td>False</td>\n",
       "      <td>False</td>\n",
       "    </tr>\n",
       "    <tr>\n",
       "      <th>22</th>\n",
       "      <td>False</td>\n",
       "      <td>False</td>\n",
       "      <td>False</td>\n",
       "      <td>False</td>\n",
       "      <td>False</td>\n",
       "      <td>False</td>\n",
       "      <td>False</td>\n",
       "    </tr>\n",
       "    <tr>\n",
       "      <th>23</th>\n",
       "      <td>False</td>\n",
       "      <td>False</td>\n",
       "      <td>False</td>\n",
       "      <td>False</td>\n",
       "      <td>False</td>\n",
       "      <td>False</td>\n",
       "      <td>False</td>\n",
       "    </tr>\n",
       "    <tr>\n",
       "      <th>24</th>\n",
       "      <td>False</td>\n",
       "      <td>False</td>\n",
       "      <td>False</td>\n",
       "      <td>False</td>\n",
       "      <td>False</td>\n",
       "      <td>False</td>\n",
       "      <td>False</td>\n",
       "    </tr>\n",
       "    <tr>\n",
       "      <th>25</th>\n",
       "      <td>False</td>\n",
       "      <td>False</td>\n",
       "      <td>False</td>\n",
       "      <td>False</td>\n",
       "      <td>False</td>\n",
       "      <td>False</td>\n",
       "      <td>False</td>\n",
       "    </tr>\n",
       "    <tr>\n",
       "      <th>26</th>\n",
       "      <td>False</td>\n",
       "      <td>False</td>\n",
       "      <td>False</td>\n",
       "      <td>False</td>\n",
       "      <td>False</td>\n",
       "      <td>False</td>\n",
       "      <td>False</td>\n",
       "    </tr>\n",
       "    <tr>\n",
       "      <th>27</th>\n",
       "      <td>False</td>\n",
       "      <td>False</td>\n",
       "      <td>False</td>\n",
       "      <td>False</td>\n",
       "      <td>False</td>\n",
       "      <td>False</td>\n",
       "      <td>False</td>\n",
       "    </tr>\n",
       "    <tr>\n",
       "      <th>28</th>\n",
       "      <td>False</td>\n",
       "      <td>False</td>\n",
       "      <td>False</td>\n",
       "      <td>False</td>\n",
       "      <td>False</td>\n",
       "      <td>False</td>\n",
       "      <td>False</td>\n",
       "    </tr>\n",
       "    <tr>\n",
       "      <th>29</th>\n",
       "      <td>False</td>\n",
       "      <td>False</td>\n",
       "      <td>False</td>\n",
       "      <td>False</td>\n",
       "      <td>False</td>\n",
       "      <td>False</td>\n",
       "      <td>False</td>\n",
       "    </tr>\n",
       "    <tr>\n",
       "      <th>30</th>\n",
       "      <td>False</td>\n",
       "      <td>False</td>\n",
       "      <td>False</td>\n",
       "      <td>False</td>\n",
       "      <td>False</td>\n",
       "      <td>False</td>\n",
       "      <td>False</td>\n",
       "    </tr>\n",
       "    <tr>\n",
       "      <th>31</th>\n",
       "      <td>False</td>\n",
       "      <td>False</td>\n",
       "      <td>False</td>\n",
       "      <td>False</td>\n",
       "      <td>False</td>\n",
       "      <td>False</td>\n",
       "      <td>False</td>\n",
       "    </tr>\n",
       "    <tr>\n",
       "      <th>32</th>\n",
       "      <td>False</td>\n",
       "      <td>False</td>\n",
       "      <td>False</td>\n",
       "      <td>False</td>\n",
       "      <td>False</td>\n",
       "      <td>False</td>\n",
       "      <td>False</td>\n",
       "    </tr>\n",
       "    <tr>\n",
       "      <th>33</th>\n",
       "      <td>False</td>\n",
       "      <td>False</td>\n",
       "      <td>False</td>\n",
       "      <td>False</td>\n",
       "      <td>False</td>\n",
       "      <td>False</td>\n",
       "      <td>False</td>\n",
       "    </tr>\n",
       "    <tr>\n",
       "      <th>34</th>\n",
       "      <td>False</td>\n",
       "      <td>False</td>\n",
       "      <td>False</td>\n",
       "      <td>False</td>\n",
       "      <td>False</td>\n",
       "      <td>False</td>\n",
       "      <td>False</td>\n",
       "    </tr>\n",
       "    <tr>\n",
       "      <th>35</th>\n",
       "      <td>False</td>\n",
       "      <td>False</td>\n",
       "      <td>False</td>\n",
       "      <td>False</td>\n",
       "      <td>False</td>\n",
       "      <td>False</td>\n",
       "      <td>False</td>\n",
       "    </tr>\n",
       "    <tr>\n",
       "      <th>36</th>\n",
       "      <td>False</td>\n",
       "      <td>False</td>\n",
       "      <td>False</td>\n",
       "      <td>False</td>\n",
       "      <td>False</td>\n",
       "      <td>False</td>\n",
       "      <td>False</td>\n",
       "    </tr>\n",
       "    <tr>\n",
       "      <th>37</th>\n",
       "      <td>False</td>\n",
       "      <td>False</td>\n",
       "      <td>False</td>\n",
       "      <td>False</td>\n",
       "      <td>False</td>\n",
       "      <td>False</td>\n",
       "      <td>False</td>\n",
       "    </tr>\n",
       "    <tr>\n",
       "      <th>38</th>\n",
       "      <td>False</td>\n",
       "      <td>False</td>\n",
       "      <td>False</td>\n",
       "      <td>False</td>\n",
       "      <td>False</td>\n",
       "      <td>False</td>\n",
       "      <td>False</td>\n",
       "    </tr>\n",
       "    <tr>\n",
       "      <th>39</th>\n",
       "      <td>False</td>\n",
       "      <td>False</td>\n",
       "      <td>False</td>\n",
       "      <td>False</td>\n",
       "      <td>False</td>\n",
       "      <td>False</td>\n",
       "      <td>False</td>\n",
       "    </tr>\n",
       "    <tr>\n",
       "      <th>40</th>\n",
       "      <td>False</td>\n",
       "      <td>False</td>\n",
       "      <td>False</td>\n",
       "      <td>False</td>\n",
       "      <td>False</td>\n",
       "      <td>False</td>\n",
       "      <td>False</td>\n",
       "    </tr>\n",
       "    <tr>\n",
       "      <th>41</th>\n",
       "      <td>False</td>\n",
       "      <td>False</td>\n",
       "      <td>False</td>\n",
       "      <td>False</td>\n",
       "      <td>False</td>\n",
       "      <td>False</td>\n",
       "      <td>False</td>\n",
       "    </tr>\n",
       "    <tr>\n",
       "      <th>42</th>\n",
       "      <td>False</td>\n",
       "      <td>False</td>\n",
       "      <td>False</td>\n",
       "      <td>False</td>\n",
       "      <td>False</td>\n",
       "      <td>False</td>\n",
       "      <td>False</td>\n",
       "    </tr>\n",
       "    <tr>\n",
       "      <th>43</th>\n",
       "      <td>False</td>\n",
       "      <td>False</td>\n",
       "      <td>False</td>\n",
       "      <td>False</td>\n",
       "      <td>False</td>\n",
       "      <td>False</td>\n",
       "      <td>False</td>\n",
       "    </tr>\n",
       "    <tr>\n",
       "      <th>44</th>\n",
       "      <td>False</td>\n",
       "      <td>False</td>\n",
       "      <td>False</td>\n",
       "      <td>False</td>\n",
       "      <td>False</td>\n",
       "      <td>False</td>\n",
       "      <td>False</td>\n",
       "    </tr>\n",
       "    <tr>\n",
       "      <th>45</th>\n",
       "      <td>False</td>\n",
       "      <td>False</td>\n",
       "      <td>False</td>\n",
       "      <td>False</td>\n",
       "      <td>False</td>\n",
       "      <td>False</td>\n",
       "      <td>False</td>\n",
       "    </tr>\n",
       "    <tr>\n",
       "      <th>46</th>\n",
       "      <td>False</td>\n",
       "      <td>False</td>\n",
       "      <td>False</td>\n",
       "      <td>False</td>\n",
       "      <td>False</td>\n",
       "      <td>False</td>\n",
       "      <td>False</td>\n",
       "    </tr>\n",
       "    <tr>\n",
       "      <th>47</th>\n",
       "      <td>False</td>\n",
       "      <td>False</td>\n",
       "      <td>False</td>\n",
       "      <td>False</td>\n",
       "      <td>False</td>\n",
       "      <td>False</td>\n",
       "      <td>False</td>\n",
       "    </tr>\n",
       "    <tr>\n",
       "      <th>48</th>\n",
       "      <td>False</td>\n",
       "      <td>False</td>\n",
       "      <td>False</td>\n",
       "      <td>False</td>\n",
       "      <td>False</td>\n",
       "      <td>False</td>\n",
       "      <td>False</td>\n",
       "    </tr>\n",
       "    <tr>\n",
       "      <th>49</th>\n",
       "      <td>False</td>\n",
       "      <td>False</td>\n",
       "      <td>False</td>\n",
       "      <td>False</td>\n",
       "      <td>False</td>\n",
       "      <td>False</td>\n",
       "      <td>False</td>\n",
       "    </tr>\n",
       "    <tr>\n",
       "      <th>50</th>\n",
       "      <td>False</td>\n",
       "      <td>False</td>\n",
       "      <td>False</td>\n",
       "      <td>False</td>\n",
       "      <td>False</td>\n",
       "      <td>False</td>\n",
       "      <td>False</td>\n",
       "    </tr>\n",
       "    <tr>\n",
       "      <th>51</th>\n",
       "      <td>False</td>\n",
       "      <td>False</td>\n",
       "      <td>False</td>\n",
       "      <td>False</td>\n",
       "      <td>False</td>\n",
       "      <td>False</td>\n",
       "      <td>False</td>\n",
       "    </tr>\n",
       "    <tr>\n",
       "      <th>52</th>\n",
       "      <td>False</td>\n",
       "      <td>False</td>\n",
       "      <td>False</td>\n",
       "      <td>False</td>\n",
       "      <td>False</td>\n",
       "      <td>False</td>\n",
       "      <td>False</td>\n",
       "    </tr>\n",
       "    <tr>\n",
       "      <th>53</th>\n",
       "      <td>False</td>\n",
       "      <td>False</td>\n",
       "      <td>False</td>\n",
       "      <td>False</td>\n",
       "      <td>False</td>\n",
       "      <td>False</td>\n",
       "      <td>False</td>\n",
       "    </tr>\n",
       "    <tr>\n",
       "      <th>54</th>\n",
       "      <td>False</td>\n",
       "      <td>False</td>\n",
       "      <td>False</td>\n",
       "      <td>False</td>\n",
       "      <td>False</td>\n",
       "      <td>False</td>\n",
       "      <td>False</td>\n",
       "    </tr>\n",
       "    <tr>\n",
       "      <th>55</th>\n",
       "      <td>False</td>\n",
       "      <td>False</td>\n",
       "      <td>False</td>\n",
       "      <td>False</td>\n",
       "      <td>False</td>\n",
       "      <td>False</td>\n",
       "      <td>False</td>\n",
       "    </tr>\n",
       "    <tr>\n",
       "      <th>56</th>\n",
       "      <td>False</td>\n",
       "      <td>False</td>\n",
       "      <td>False</td>\n",
       "      <td>False</td>\n",
       "      <td>False</td>\n",
       "      <td>False</td>\n",
       "      <td>False</td>\n",
       "    </tr>\n",
       "    <tr>\n",
       "      <th>57</th>\n",
       "      <td>False</td>\n",
       "      <td>False</td>\n",
       "      <td>False</td>\n",
       "      <td>False</td>\n",
       "      <td>False</td>\n",
       "      <td>False</td>\n",
       "      <td>False</td>\n",
       "    </tr>\n",
       "    <tr>\n",
       "      <th>58</th>\n",
       "      <td>False</td>\n",
       "      <td>False</td>\n",
       "      <td>False</td>\n",
       "      <td>False</td>\n",
       "      <td>False</td>\n",
       "      <td>False</td>\n",
       "      <td>False</td>\n",
       "    </tr>\n",
       "    <tr>\n",
       "      <th>59</th>\n",
       "      <td>False</td>\n",
       "      <td>False</td>\n",
       "      <td>False</td>\n",
       "      <td>False</td>\n",
       "      <td>False</td>\n",
       "      <td>False</td>\n",
       "      <td>False</td>\n",
       "    </tr>\n",
       "    <tr>\n",
       "      <th>60</th>\n",
       "      <td>False</td>\n",
       "      <td>False</td>\n",
       "      <td>False</td>\n",
       "      <td>False</td>\n",
       "      <td>False</td>\n",
       "      <td>False</td>\n",
       "      <td>False</td>\n",
       "    </tr>\n",
       "    <tr>\n",
       "      <th>61</th>\n",
       "      <td>False</td>\n",
       "      <td>False</td>\n",
       "      <td>False</td>\n",
       "      <td>False</td>\n",
       "      <td>False</td>\n",
       "      <td>False</td>\n",
       "      <td>False</td>\n",
       "    </tr>\n",
       "    <tr>\n",
       "      <th>62</th>\n",
       "      <td>False</td>\n",
       "      <td>False</td>\n",
       "      <td>False</td>\n",
       "      <td>False</td>\n",
       "      <td>False</td>\n",
       "      <td>False</td>\n",
       "      <td>False</td>\n",
       "    </tr>\n",
       "    <tr>\n",
       "      <th>63</th>\n",
       "      <td>False</td>\n",
       "      <td>False</td>\n",
       "      <td>False</td>\n",
       "      <td>False</td>\n",
       "      <td>False</td>\n",
       "      <td>False</td>\n",
       "      <td>False</td>\n",
       "    </tr>\n",
       "    <tr>\n",
       "      <th>64</th>\n",
       "      <td>False</td>\n",
       "      <td>False</td>\n",
       "      <td>False</td>\n",
       "      <td>False</td>\n",
       "      <td>False</td>\n",
       "      <td>False</td>\n",
       "      <td>False</td>\n",
       "    </tr>\n",
       "    <tr>\n",
       "      <th>65</th>\n",
       "      <td>False</td>\n",
       "      <td>False</td>\n",
       "      <td>False</td>\n",
       "      <td>False</td>\n",
       "      <td>False</td>\n",
       "      <td>False</td>\n",
       "      <td>False</td>\n",
       "    </tr>\n",
       "    <tr>\n",
       "      <th>66</th>\n",
       "      <td>False</td>\n",
       "      <td>False</td>\n",
       "      <td>False</td>\n",
       "      <td>False</td>\n",
       "      <td>False</td>\n",
       "      <td>False</td>\n",
       "      <td>False</td>\n",
       "    </tr>\n",
       "    <tr>\n",
       "      <th>67</th>\n",
       "      <td>False</td>\n",
       "      <td>False</td>\n",
       "      <td>False</td>\n",
       "      <td>False</td>\n",
       "      <td>False</td>\n",
       "      <td>False</td>\n",
       "      <td>False</td>\n",
       "    </tr>\n",
       "    <tr>\n",
       "      <th>68</th>\n",
       "      <td>False</td>\n",
       "      <td>False</td>\n",
       "      <td>False</td>\n",
       "      <td>False</td>\n",
       "      <td>False</td>\n",
       "      <td>False</td>\n",
       "      <td>False</td>\n",
       "    </tr>\n",
       "    <tr>\n",
       "      <th>69</th>\n",
       "      <td>False</td>\n",
       "      <td>False</td>\n",
       "      <td>False</td>\n",
       "      <td>False</td>\n",
       "      <td>False</td>\n",
       "      <td>False</td>\n",
       "      <td>False</td>\n",
       "    </tr>\n",
       "  </tbody>\n",
       "</table>\n",
       "</div>"
      ],
      "text/plain": [
       "    Timestamp   Name  Course  Year of Study  Description  Result    res\n",
       "0       False  False   False          False        False   False  False\n",
       "1       False  False   False          False        False   False  False\n",
       "2       False  False   False          False        False   False  False\n",
       "3       False  False   False          False        False   False  False\n",
       "4       False  False   False          False        False   False  False\n",
       "5       False  False   False          False        False   False  False\n",
       "6       False  False   False          False        False   False  False\n",
       "7       False  False   False          False        False   False  False\n",
       "8       False  False   False          False        False   False  False\n",
       "9       False  False   False          False        False   False  False\n",
       "10      False  False   False          False        False   False  False\n",
       "11      False  False   False          False        False   False  False\n",
       "12      False  False   False          False        False   False  False\n",
       "13      False  False   False          False        False   False  False\n",
       "14      False  False   False          False        False   False  False\n",
       "15      False  False   False          False        False   False  False\n",
       "16      False  False   False          False        False   False  False\n",
       "17      False  False   False          False        False   False  False\n",
       "18      False  False   False          False        False   False  False\n",
       "19      False  False   False          False        False   False  False\n",
       "20      False  False   False          False        False   False  False\n",
       "21      False  False   False          False        False   False  False\n",
       "22      False  False   False          False        False   False  False\n",
       "23      False  False   False          False        False   False  False\n",
       "24      False  False   False          False        False   False  False\n",
       "25      False  False   False          False        False   False  False\n",
       "26      False  False   False          False        False   False  False\n",
       "27      False  False   False          False        False   False  False\n",
       "28      False  False   False          False        False   False  False\n",
       "29      False  False   False          False        False   False  False\n",
       "30      False  False   False          False        False   False  False\n",
       "31      False  False   False          False        False   False  False\n",
       "32      False  False   False          False        False   False  False\n",
       "33      False  False   False          False        False   False  False\n",
       "34      False  False   False          False        False   False  False\n",
       "35      False  False   False          False        False   False  False\n",
       "36      False  False   False          False        False   False  False\n",
       "37      False  False   False          False        False   False  False\n",
       "38      False  False   False          False        False   False  False\n",
       "39      False  False   False          False        False   False  False\n",
       "40      False  False   False          False        False   False  False\n",
       "41      False  False   False          False        False   False  False\n",
       "42      False  False   False          False        False   False  False\n",
       "43      False  False   False          False        False   False  False\n",
       "44      False  False   False          False        False   False  False\n",
       "45      False  False   False          False        False   False  False\n",
       "46      False  False   False          False        False   False  False\n",
       "47      False  False   False          False        False   False  False\n",
       "48      False  False   False          False        False   False  False\n",
       "49      False  False   False          False        False   False  False\n",
       "50      False  False   False          False        False   False  False\n",
       "51      False  False   False          False        False   False  False\n",
       "52      False  False   False          False        False   False  False\n",
       "53      False  False   False          False        False   False  False\n",
       "54      False  False   False          False        False   False  False\n",
       "55      False  False   False          False        False   False  False\n",
       "56      False  False   False          False        False   False  False\n",
       "57      False  False   False          False        False   False  False\n",
       "58      False  False   False          False        False   False  False\n",
       "59      False  False   False          False        False   False  False\n",
       "60      False  False   False          False        False   False  False\n",
       "61      False  False   False          False        False   False  False\n",
       "62      False  False   False          False        False   False  False\n",
       "63      False  False   False          False        False   False  False\n",
       "64      False  False   False          False        False   False  False\n",
       "65      False  False   False          False        False   False  False\n",
       "66      False  False   False          False        False   False  False\n",
       "67      False  False   False          False        False   False  False\n",
       "68      False  False   False          False        False   False  False\n",
       "69      False  False   False          False        False   False  False"
      ]
     },
     "execution_count": 27,
     "metadata": {
      "tags": []
     },
     "output_type": "execute_result"
    }
   ],
   "source": [
    "data.isna()"
   ]
  },
  {
   "cell_type": "code",
   "execution_count": null,
   "metadata": {
    "colab": {
     "base_uri": "https://localhost:8080/",
     "height": 195
    },
    "executionInfo": {
     "elapsed": 1272,
     "status": "ok",
     "timestamp": 1619272243900,
     "user": {
      "displayName": "Gokulram K",
      "photoUrl": "",
      "userId": "14437931993620132200"
     },
     "user_tz": -330
    },
    "id": "vADNXqqqY6JX",
    "outputId": "c0a77960-00c0-493a-a0b4-a7a53fdf7461"
   },
   "outputs": [
    {
     "data": {
      "text/html": [
       "<div>\n",
       "<style scoped>\n",
       "    .dataframe tbody tr th:only-of-type {\n",
       "        vertical-align: middle;\n",
       "    }\n",
       "\n",
       "    .dataframe tbody tr th {\n",
       "        vertical-align: top;\n",
       "    }\n",
       "\n",
       "    .dataframe thead th {\n",
       "        text-align: right;\n",
       "    }\n",
       "</style>\n",
       "<table border=\"1\" class=\"dataframe\">\n",
       "  <thead>\n",
       "    <tr style=\"text-align: right;\">\n",
       "      <th></th>\n",
       "      <th>Timestamp</th>\n",
       "      <th>Name</th>\n",
       "      <th>Course</th>\n",
       "      <th>Year of Study</th>\n",
       "      <th>Description</th>\n",
       "      <th>Result</th>\n",
       "      <th>res</th>\n",
       "    </tr>\n",
       "  </thead>\n",
       "  <tbody>\n",
       "    <tr>\n",
       "      <th>0</th>\n",
       "      <td>False</td>\n",
       "      <td>False</td>\n",
       "      <td>False</td>\n",
       "      <td>False</td>\n",
       "      <td>False</td>\n",
       "      <td>False</td>\n",
       "      <td>False</td>\n",
       "    </tr>\n",
       "    <tr>\n",
       "      <th>1</th>\n",
       "      <td>False</td>\n",
       "      <td>False</td>\n",
       "      <td>False</td>\n",
       "      <td>False</td>\n",
       "      <td>False</td>\n",
       "      <td>False</td>\n",
       "      <td>False</td>\n",
       "    </tr>\n",
       "    <tr>\n",
       "      <th>2</th>\n",
       "      <td>False</td>\n",
       "      <td>False</td>\n",
       "      <td>False</td>\n",
       "      <td>False</td>\n",
       "      <td>False</td>\n",
       "      <td>False</td>\n",
       "      <td>False</td>\n",
       "    </tr>\n",
       "    <tr>\n",
       "      <th>3</th>\n",
       "      <td>False</td>\n",
       "      <td>False</td>\n",
       "      <td>False</td>\n",
       "      <td>False</td>\n",
       "      <td>False</td>\n",
       "      <td>False</td>\n",
       "      <td>False</td>\n",
       "    </tr>\n",
       "    <tr>\n",
       "      <th>4</th>\n",
       "      <td>False</td>\n",
       "      <td>False</td>\n",
       "      <td>False</td>\n",
       "      <td>False</td>\n",
       "      <td>False</td>\n",
       "      <td>False</td>\n",
       "      <td>False</td>\n",
       "    </tr>\n",
       "  </tbody>\n",
       "</table>\n",
       "</div>"
      ],
      "text/plain": [
       "   Timestamp   Name  Course  Year of Study  Description  Result    res\n",
       "0      False  False   False          False        False   False  False\n",
       "1      False  False   False          False        False   False  False\n",
       "2      False  False   False          False        False   False  False\n",
       "3      False  False   False          False        False   False  False\n",
       "4      False  False   False          False        False   False  False"
      ]
     },
     "execution_count": 28,
     "metadata": {
      "tags": []
     },
     "output_type": "execute_result"
    }
   ],
   "source": [
    "data_missing =data.isna()\n",
    "data_missing.head()"
   ]
  },
  {
   "cell_type": "code",
   "execution_count": null,
   "metadata": {
    "colab": {
     "base_uri": "https://localhost:8080/"
    },
    "executionInfo": {
     "elapsed": 1383,
     "status": "ok",
     "timestamp": 1619272245747,
     "user": {
      "displayName": "Gokulram K",
      "photoUrl": "",
      "userId": "14437931993620132200"
     },
     "user_tz": -330
    },
    "id": "wxERcm1zZ0-d",
    "outputId": "58f5e3c2-d1ff-4a6e-bfa3-9e60292b3c8a"
   },
   "outputs": [
    {
     "data": {
      "text/plain": [
       "Timestamp        bool\n",
       "Name             bool\n",
       "Course           bool\n",
       "Year of Study    bool\n",
       "Description      bool\n",
       "Result           bool\n",
       "res              bool\n",
       "dtype: object"
      ]
     },
     "execution_count": 29,
     "metadata": {
      "tags": []
     },
     "output_type": "execute_result"
    }
   ],
   "source": [
    "data_missing.dtypes"
   ]
  },
  {
   "cell_type": "code",
   "execution_count": null,
   "metadata": {
    "colab": {
     "base_uri": "https://localhost:8080/"
    },
    "executionInfo": {
     "elapsed": 707,
     "status": "ok",
     "timestamp": 1619272246770,
     "user": {
      "displayName": "Gokulram K",
      "photoUrl": "",
      "userId": "14437931993620132200"
     },
     "user_tz": -330
    },
    "id": "DvCfXKprZ4JH",
    "outputId": "ed6849f9-0d75-42af-d52d-e95e7d3ff172"
   },
   "outputs": [
    {
     "data": {
      "text/plain": [
       "Timestamp        0\n",
       "Name             0\n",
       "Course           0\n",
       "Year of Study    0\n",
       "Description      0\n",
       "Result           0\n",
       "res              0\n",
       "dtype: int64"
      ]
     },
     "execution_count": 30,
     "metadata": {
      "tags": []
     },
     "output_type": "execute_result"
    }
   ],
   "source": [
    "data_missing.sum()"
   ]
  },
  {
   "cell_type": "code",
   "execution_count": null,
   "metadata": {
    "colab": {
     "base_uri": "https://localhost:8080/",
     "height": 416
    },
    "executionInfo": {
     "elapsed": 1442,
     "status": "ok",
     "timestamp": 1619272248738,
     "user": {
      "displayName": "Gokulram K",
      "photoUrl": "",
      "userId": "14437931993620132200"
     },
     "user_tz": -330
    },
    "id": "yho5rD2zZ6gU",
    "outputId": "76300da9-ae90-495b-9677-18f8873439a4"
   },
   "outputs": [
    {
     "name": "stdout",
     "output_type": "stream",
     "text": [
      "percentage for default\n",
      "\n",
      "positive     75.71\n",
      "negative     12.86\n",
      "neutral      11.43\n",
      "Name: Result, dtype: float64\n"
     ]
    },
    {
     "data": {
      "image/png": "[encoded data removed]",
      "text/plain": [
       "<Figure size 432x288 with 1 Axes>"
      ]
     },
     "metadata": {
      "needs_background": "light",
      "tags": []
     },
     "output_type": "display_data"
    }
   ],
   "source": [
    "import matplotlib.pyplot as plt\n",
    "%matplotlib inline \n",
    "print('percentage for default\\n')\n",
    "print(round(data.Result.value_counts(normalize=True)*100,2))\n",
    "round(data.Result.value_counts(normalize=True)*100,2).plot(kind='bar')\n",
    "plt.title('percentage distribution by review type')\n",
    "plt.show()"
   ]
  },
  {
   "cell_type": "code",
   "execution_count": null,
   "metadata": {
    "colab": {
     "base_uri": "https://localhost:8080/"
    },
    "executionInfo": {
     "elapsed": 821,
     "status": "ok",
     "timestamp": 1619272250056,
     "user": {
      "displayName": "Gokulram K",
      "photoUrl": "",
      "userId": "14437931993620132200"
     },
     "user_tz": -330
    },
    "id": "KdwIdP3saLrO",
    "outputId": "f7aacd6a-ed1e-4af2-b437-976849908634"
   },
   "outputs": [
    {
     "name": "stdout",
     "output_type": "stream",
     "text": [
      "<class 'pandas.core.frame.DataFrame'>\n",
      "RangeIndex: 70 entries, 0 to 69\n",
      "Data columns (total 7 columns):\n",
      " #   Column         Non-Null Count  Dtype \n",
      "---  ------         --------------  ----- \n",
      " 0   Timestamp      70 non-null     object\n",
      " 1   Name           70 non-null     object\n",
      " 2   Course         70 non-null     object\n",
      " 3   Year of Study  70 non-null     object\n",
      " 4   Description    70 non-null     object\n",
      " 5   Result         70 non-null     object\n",
      " 6   res            70 non-null     int64 \n",
      "dtypes: int64(1), object(6)\n",
      "memory usage: 4.0+ KB\n"
     ]
    }
   ],
   "source": [
    "data.info()"
   ]
  },
  {
   "cell_type": "code",
   "execution_count": null,
   "metadata": {
    "colab": {
     "base_uri": "https://localhost:8080/",
     "height": 195
    },
    "executionInfo": {
     "elapsed": 2364,
     "status": "ok",
     "timestamp": 1619272252825,
     "user": {
      "displayName": "Gokulram K",
      "photoUrl": "",
      "userId": "14437931993620132200"
     },
     "user_tz": -330
    },
    "id": "SovK_lo4aRNr",
    "outputId": "8590382b-b10d-4a73-a895-4fb174ab1959"
   },
   "outputs": [
    {
     "data": {
      "text/html": [
       "<div>\n",
       "<style scoped>\n",
       "    .dataframe tbody tr th:only-of-type {\n",
       "        vertical-align: middle;\n",
       "    }\n",
       "\n",
       "    .dataframe tbody tr th {\n",
       "        vertical-align: top;\n",
       "    }\n",
       "\n",
       "    .dataframe thead th {\n",
       "        text-align: right;\n",
       "    }\n",
       "</style>\n",
       "<table border=\"1\" class=\"dataframe\">\n",
       "  <thead>\n",
       "    <tr style=\"text-align: right;\">\n",
       "      <th></th>\n",
       "      <th>Timestamp</th>\n",
       "      <th>Name</th>\n",
       "      <th>Course</th>\n",
       "      <th>Year of Study</th>\n",
       "      <th>Description</th>\n",
       "      <th>Result</th>\n",
       "      <th>res</th>\n",
       "    </tr>\n",
       "  </thead>\n",
       "  <tbody>\n",
       "    <tr>\n",
       "      <th>0</th>\n",
       "      <td>4/5/2021 13:43</td>\n",
       "      <td>Shruthi J</td>\n",
       "      <td>M.Sc</td>\n",
       "      <td>2</td>\n",
       "      <td>Awesome</td>\n",
       "      <td>positive</td>\n",
       "      <td>0</td>\n",
       "    </tr>\n",
       "    <tr>\n",
       "      <th>1</th>\n",
       "      <td>4/5/2021 13:43</td>\n",
       "      <td>Vaishali.k</td>\n",
       "      <td>M.Sc</td>\n",
       "      <td>2</td>\n",
       "      <td>80%</td>\n",
       "      <td>positive</td>\n",
       "      <td>0</td>\n",
       "    </tr>\n",
       "    <tr>\n",
       "      <th>2</th>\n",
       "      <td>4/5/2021 13:45</td>\n",
       "      <td>Kishore Kumar R</td>\n",
       "      <td>M.Sc</td>\n",
       "      <td>2</td>\n",
       "      <td>Not bad.</td>\n",
       "      <td>neutral</td>\n",
       "      <td>1</td>\n",
       "    </tr>\n",
       "    <tr>\n",
       "      <th>3</th>\n",
       "      <td>4/5/2021 13:46</td>\n",
       "      <td>Karthik</td>\n",
       "      <td>M.Sc</td>\n",
       "      <td>1</td>\n",
       "      <td>good</td>\n",
       "      <td>positive</td>\n",
       "      <td>0</td>\n",
       "    </tr>\n",
       "    <tr>\n",
       "      <th>4</th>\n",
       "      <td>4/5/2021 13:47</td>\n",
       "      <td>Jayasuriya E</td>\n",
       "      <td>M.Sc</td>\n",
       "      <td>2</td>\n",
       "      <td>I feel great.class are going really well compa...</td>\n",
       "      <td>positive</td>\n",
       "      <td>0</td>\n",
       "    </tr>\n",
       "  </tbody>\n",
       "</table>\n",
       "</div>"
      ],
      "text/plain": [
       "        Timestamp             Name Course Year of Study                                        Description     Result  res\n",
       "0  4/5/2021 13:43        Shruthi J   M.Sc             2                                            Awesome  positive     0\n",
       "1  4/5/2021 13:43       Vaishali.k   M.Sc             2                                                80%  positive     0\n",
       "2  4/5/2021 13:45  Kishore Kumar R   M.Sc             2                                           Not bad.    neutral    1\n",
       "3  4/5/2021 13:46          Karthik   M.Sc             1                                               good  positive     0\n",
       "4  4/5/2021 13:47     Jayasuriya E   M.Sc             2  I feel great.class are going really well compa...  positive     0"
      ]
     },
     "execution_count": 33,
     "metadata": {
      "tags": []
     },
     "output_type": "execute_result"
    }
   ],
   "source": [
    "data.head()"
   ]
  },
  {
   "cell_type": "code",
   "execution_count": null,
   "metadata": {
    "id": "qsf2VKCVaUuU"
   },
   "outputs": [],
   "source": [
    "data.drop('Name',axis=1,inplace=True)"
   ]
  },
  {
   "cell_type": "code",
   "execution_count": null,
   "metadata": {
    "colab": {
     "base_uri": "https://localhost:8080/",
     "height": 195
    },
    "executionInfo": {
     "elapsed": 2351,
     "status": "ok",
     "timestamp": 1619272259542,
     "user": {
      "displayName": "Gokulram K",
      "photoUrl": "",
      "userId": "14437931993620132200"
     },
     "user_tz": -330
    },
    "id": "K0-E4rf6aYJC",
    "outputId": "3116f3a8-86a8-4bd1-9f4a-722aec161823"
   },
   "outputs": [
    {
     "data": {
      "text/html": [
       "<div>\n",
       "<style scoped>\n",
       "    .dataframe tbody tr th:only-of-type {\n",
       "        vertical-align: middle;\n",
       "    }\n",
       "\n",
       "    .dataframe tbody tr th {\n",
       "        vertical-align: top;\n",
       "    }\n",
       "\n",
       "    .dataframe thead th {\n",
       "        text-align: right;\n",
       "    }\n",
       "</style>\n",
       "<table border=\"1\" class=\"dataframe\">\n",
       "  <thead>\n",
       "    <tr style=\"text-align: right;\">\n",
       "      <th></th>\n",
       "      <th>Timestamp</th>\n",
       "      <th>Course</th>\n",
       "      <th>Year of Study</th>\n",
       "      <th>Description</th>\n",
       "      <th>Result</th>\n",
       "      <th>res</th>\n",
       "    </tr>\n",
       "  </thead>\n",
       "  <tbody>\n",
       "    <tr>\n",
       "      <th>0</th>\n",
       "      <td>4/5/2021 13:43</td>\n",
       "      <td>M.Sc</td>\n",
       "      <td>2</td>\n",
       "      <td>Awesome</td>\n",
       "      <td>positive</td>\n",
       "      <td>0</td>\n",
       "    </tr>\n",
       "    <tr>\n",
       "      <th>1</th>\n",
       "      <td>4/5/2021 13:43</td>\n",
       "      <td>M.Sc</td>\n",
       "      <td>2</td>\n",
       "      <td>80%</td>\n",
       "      <td>positive</td>\n",
       "      <td>0</td>\n",
       "    </tr>\n",
       "    <tr>\n",
       "      <th>2</th>\n",
       "      <td>4/5/2021 13:45</td>\n",
       "      <td>M.Sc</td>\n",
       "      <td>2</td>\n",
       "      <td>Not bad.</td>\n",
       "      <td>neutral</td>\n",
       "      <td>1</td>\n",
       "    </tr>\n",
       "    <tr>\n",
       "      <th>3</th>\n",
       "      <td>4/5/2021 13:46</td>\n",
       "      <td>M.Sc</td>\n",
       "      <td>1</td>\n",
       "      <td>good</td>\n",
       "      <td>positive</td>\n",
       "      <td>0</td>\n",
       "    </tr>\n",
       "    <tr>\n",
       "      <th>4</th>\n",
       "      <td>4/5/2021 13:47</td>\n",
       "      <td>M.Sc</td>\n",
       "      <td>2</td>\n",
       "      <td>I feel great.class are going really well compa...</td>\n",
       "      <td>positive</td>\n",
       "      <td>0</td>\n",
       "    </tr>\n",
       "  </tbody>\n",
       "</table>\n",
       "</div>"
      ],
      "text/plain": [
       "        Timestamp Course Year of Study                                        Description     Result  res\n",
       "0  4/5/2021 13:43   M.Sc             2                                            Awesome  positive     0\n",
       "1  4/5/2021 13:43   M.Sc             2                                                80%  positive     0\n",
       "2  4/5/2021 13:45   M.Sc             2                                           Not bad.    neutral    1\n",
       "3  4/5/2021 13:46   M.Sc             1                                               good  positive     0\n",
       "4  4/5/2021 13:47   M.Sc             2  I feel great.class are going really well compa...  positive     0"
      ]
     },
     "execution_count": 35,
     "metadata": {
      "tags": []
     },
     "output_type": "execute_result"
    }
   ],
   "source": [
    "data.head()"
   ]
  },
  {
   "cell_type": "code",
   "execution_count": null,
   "metadata": {
    "id": "lZiwjCzyabC5"
   },
   "outputs": [],
   "source": [
    "data.drop(['Timestamp','Course','Year of Study'],axis=1,inplace=True)"
   ]
  },
  {
   "cell_type": "code",
   "execution_count": null,
   "metadata": {
    "colab": {
     "base_uri": "https://localhost:8080/",
     "height": 195
    },
    "executionInfo": {
     "elapsed": 2232,
     "status": "ok",
     "timestamp": 1619272266034,
     "user": {
      "displayName": "Gokulram K",
      "photoUrl": "",
      "userId": "14437931993620132200"
     },
     "user_tz": -330
    },
    "id": "xdkJftSfadxV",
    "outputId": "24cc8a37-78f7-42bb-dcb2-42da133f8b8f"
   },
   "outputs": [
    {
     "data": {
      "text/html": [
       "<div>\n",
       "<style scoped>\n",
       "    .dataframe tbody tr th:only-of-type {\n",
       "        vertical-align: middle;\n",
       "    }\n",
       "\n",
       "    .dataframe tbody tr th {\n",
       "        vertical-align: top;\n",
       "    }\n",
       "\n",
       "    .dataframe thead th {\n",
       "        text-align: right;\n",
       "    }\n",
       "</style>\n",
       "<table border=\"1\" class=\"dataframe\">\n",
       "  <thead>\n",
       "    <tr style=\"text-align: right;\">\n",
       "      <th></th>\n",
       "      <th>Description</th>\n",
       "      <th>Result</th>\n",
       "      <th>res</th>\n",
       "    </tr>\n",
       "  </thead>\n",
       "  <tbody>\n",
       "    <tr>\n",
       "      <th>0</th>\n",
       "      <td>Awesome</td>\n",
       "      <td>positive</td>\n",
       "      <td>0</td>\n",
       "    </tr>\n",
       "    <tr>\n",
       "      <th>1</th>\n",
       "      <td>80%</td>\n",
       "      <td>positive</td>\n",
       "      <td>0</td>\n",
       "    </tr>\n",
       "    <tr>\n",
       "      <th>2</th>\n",
       "      <td>Not bad.</td>\n",
       "      <td>neutral</td>\n",
       "      <td>1</td>\n",
       "    </tr>\n",
       "    <tr>\n",
       "      <th>3</th>\n",
       "      <td>good</td>\n",
       "      <td>positive</td>\n",
       "      <td>0</td>\n",
       "    </tr>\n",
       "    <tr>\n",
       "      <th>4</th>\n",
       "      <td>I feel great.class are going really well compa...</td>\n",
       "      <td>positive</td>\n",
       "      <td>0</td>\n",
       "    </tr>\n",
       "  </tbody>\n",
       "</table>\n",
       "</div>"
      ],
      "text/plain": [
       "                                         Description     Result  res\n",
       "0                                            Awesome  positive     0\n",
       "1                                                80%  positive     0\n",
       "2                                           Not bad.    neutral    1\n",
       "3                                               good  positive     0\n",
       "4  I feel great.class are going really well compa...  positive     0"
      ]
     },
     "execution_count": 37,
     "metadata": {
      "tags": []
     },
     "output_type": "execute_result"
    }
   ],
   "source": [
    "data.head()"
   ]
  },
  {
   "cell_type": "code",
   "execution_count": null,
   "metadata": {
    "id": "jSMRXPQbanGu"
   },
   "outputs": [],
   "source": [
    "import re\n",
    "import string\n",
    "\n",
    "def text_clean_1(text):\n",
    "    text = text.lower()\n",
    "    text = re.sub('\\[.*?\\]', '',text)\n",
    "    text=re.sub('[%s]' % re.escape(string.punctuation), '',text)\n",
    "    text=re.sub('\\w*\\d\\w*', '',text)\n",
    "    return text\n",
    "cleaned1 = lambda x: text_clean_1(x)"
   ]
  },
  {
   "cell_type": "code",
   "execution_count": 1,
   "metadata": {
    "colab": {
     "base_uri": "https://localhost:8080/",
     "height": 343
    },
    "executionInfo": {
     "elapsed": 1099,
     "status": "ok",
     "timestamp": 1619272269276,
     "user": {
      "displayName": "Gokulram K",
      "photoUrl": "",
      "userId": "14437931993620132200"
     },
     "user_tz": -330
    },
    "id": "vmY5yPDRau2a",
    "outputId": "24786409-1943-4516-fd6e-ed94b70fdc06"
   },
   "outputs": [
    {
     "ename": "NameError",
     "evalue": "name 'pd' is not defined",
     "output_type": "error",
     "traceback": [
      "\u001b[1;31m---------------------------------------------------------------------------\u001b[0m",
      "\u001b[1;31mNameError\u001b[0m                                 Traceback (most recent call last)",
      "\u001b[1;32m<ipython-input-1-5b6d5833d244>\u001b[0m in \u001b[0;36m<module>\u001b[1;34m\u001b[0m\n\u001b[1;32m----> 1\u001b[1;33m \u001b[0mdata\u001b[0m\u001b[1;33m[\u001b[0m\u001b[1;34m'cleaned_description'\u001b[0m\u001b[1;33m]\u001b[0m\u001b[1;33m=\u001b[0m\u001b[0mpd\u001b[0m\u001b[1;33m.\u001b[0m\u001b[0mDataFrame\u001b[0m\u001b[1;33m(\u001b[0m\u001b[0mdata\u001b[0m\u001b[1;33m.\u001b[0m\u001b[0mDescription\u001b[0m\u001b[1;33m.\u001b[0m\u001b[0mapply\u001b[0m\u001b[1;33m(\u001b[0m\u001b[0mcleaned1\u001b[0m\u001b[1;33m)\u001b[0m\u001b[1;33m)\u001b[0m\u001b[1;33m\u001b[0m\u001b[1;33m\u001b[0m\u001b[0m\n\u001b[0m\u001b[0;32m      2\u001b[0m \u001b[0mdata\u001b[0m\u001b[1;33m.\u001b[0m\u001b[0mhead\u001b[0m\u001b[1;33m(\u001b[0m\u001b[1;36m10\u001b[0m\u001b[1;33m)\u001b[0m\u001b[1;33m\u001b[0m\u001b[1;33m\u001b[0m\u001b[0m\n",
      "\u001b[1;31mNameError\u001b[0m: name 'pd' is not defined"
     ]
    }
   ],
   "source": [
    "data['cleaned_description']=pd.DataFrame(data.Description.apply(cleaned1))\n",
    "data.head(10)"
   ]
  },
  {
   "cell_type": "code",
   "execution_count": null,
   "metadata": {
    "id": "xCNgZ1SdayN6"
   },
   "outputs": [],
   "source": [
    "def text_clean_2(text):\n",
    "    text = re.sub('[''\"\"...]' , '', text)\n",
    "    text = re.sub('\\n', '', text)\n",
    "    return text\n",
    "cleaned2 = lambda x: text_clean_2(x)"
   ]
  },
  {
   "cell_type": "code",
   "execution_count": null,
   "metadata": {
    "colab": {
     "base_uri": "https://localhost:8080/",
     "height": 343
    },
    "executionInfo": {
     "elapsed": 1068,
     "status": "ok",
     "timestamp": 1619272273191,
     "user": {
      "displayName": "Gokulram K",
      "photoUrl": "",
      "userId": "14437931993620132200"
     },
     "user_tz": -330
    },
    "id": "pBgsmxLOa19j",
    "outputId": "c184225f-37cf-46e2-efc7-f3318aa0d1e7"
   },
   "outputs": [
    {
     "data": {
      "text/html": [
       "<div>\n",
       "<style scoped>\n",
       "    .dataframe tbody tr th:only-of-type {\n",
       "        vertical-align: middle;\n",
       "    }\n",
       "\n",
       "    .dataframe tbody tr th {\n",
       "        vertical-align: top;\n",
       "    }\n",
       "\n",
       "    .dataframe thead th {\n",
       "        text-align: right;\n",
       "    }\n",
       "</style>\n",
       "<table border=\"1\" class=\"dataframe\">\n",
       "  <thead>\n",
       "    <tr style=\"text-align: right;\">\n",
       "      <th></th>\n",
       "      <th>Description</th>\n",
       "      <th>Result</th>\n",
       "      <th>res</th>\n",
       "      <th>cleaned_description</th>\n",
       "      <th>cleaned_description_new</th>\n",
       "    </tr>\n",
       "  </thead>\n",
       "  <tbody>\n",
       "    <tr>\n",
       "      <th>0</th>\n",
       "      <td>Awesome</td>\n",
       "      <td>positive</td>\n",
       "      <td>0</td>\n",
       "      <td>awesome</td>\n",
       "      <td>awesome</td>\n",
       "    </tr>\n",
       "    <tr>\n",
       "      <th>1</th>\n",
       "      <td>80%</td>\n",
       "      <td>positive</td>\n",
       "      <td>0</td>\n",
       "      <td></td>\n",
       "      <td></td>\n",
       "    </tr>\n",
       "    <tr>\n",
       "      <th>2</th>\n",
       "      <td>Not bad.</td>\n",
       "      <td>neutral</td>\n",
       "      <td>1</td>\n",
       "      <td>not bad</td>\n",
       "      <td>not bad</td>\n",
       "    </tr>\n",
       "    <tr>\n",
       "      <th>3</th>\n",
       "      <td>good</td>\n",
       "      <td>positive</td>\n",
       "      <td>0</td>\n",
       "      <td>good</td>\n",
       "      <td>good</td>\n",
       "    </tr>\n",
       "    <tr>\n",
       "      <th>4</th>\n",
       "      <td>I feel great.class are going really well compa...</td>\n",
       "      <td>positive</td>\n",
       "      <td>0</td>\n",
       "      <td>i feel greatclass are going really well compar...</td>\n",
       "      <td>i feel greatclass are going really well compar...</td>\n",
       "    </tr>\n",
       "    <tr>\n",
       "      <th>5</th>\n",
       "      <td>Good\\n</td>\n",
       "      <td>positive</td>\n",
       "      <td>0</td>\n",
       "      <td>good\\n</td>\n",
       "      <td>good</td>\n",
       "    </tr>\n",
       "    <tr>\n",
       "      <th>6</th>\n",
       "      <td>Good\\n</td>\n",
       "      <td>positive</td>\n",
       "      <td>0</td>\n",
       "      <td>good\\n</td>\n",
       "      <td>good</td>\n",
       "    </tr>\n",
       "    <tr>\n",
       "      <th>7</th>\n",
       "      <td>Felt good , but had some issues too. The colle...</td>\n",
       "      <td>positive</td>\n",
       "      <td>0</td>\n",
       "      <td>felt good  but had some issues too the college...</td>\n",
       "      <td>felt good  but had some issues too the college...</td>\n",
       "    </tr>\n",
       "    <tr>\n",
       "      <th>8</th>\n",
       "      <td>A growing experience</td>\n",
       "      <td>positive</td>\n",
       "      <td>0</td>\n",
       "      <td>a growing experience</td>\n",
       "      <td>a growing experience</td>\n",
       "    </tr>\n",
       "    <tr>\n",
       "      <th>9</th>\n",
       "      <td>Everything fine</td>\n",
       "      <td>positive</td>\n",
       "      <td>0</td>\n",
       "      <td>everything fine</td>\n",
       "      <td>everything fine</td>\n",
       "    </tr>\n",
       "  </tbody>\n",
       "</table>\n",
       "</div>"
      ],
      "text/plain": [
       "                                         Description     Result  res                                cleaned_description                            cleaned_description_new\n",
       "0                                            Awesome  positive     0                                            awesome                                            awesome\n",
       "1                                                80%  positive     0                                                                                                      \n",
       "2                                           Not bad.    neutral    1                                            not bad                                            not bad\n",
       "3                                               good  positive     0                                               good                                               good\n",
       "4  I feel great.class are going really well compa...  positive     0  i feel greatclass are going really well compar...  i feel greatclass are going really well compar...\n",
       "5                                             Good\\n  positive     0                                             good\\n                                               good\n",
       "6                                             Good\\n  positive     0                                             good\\n                                               good\n",
       "7  Felt good , but had some issues too. The colle...  positive     0  felt good  but had some issues too the college...  felt good  but had some issues too the college...\n",
       "8                               A growing experience  positive     0                               a growing experience                               a growing experience\n",
       "9                                    Everything fine  positive     0                                    everything fine                                    everything fine"
      ]
     },
     "execution_count": 41,
     "metadata": {
      "tags": []
     },
     "output_type": "execute_result"
    }
   ],
   "source": [
    "data['cleaned_description_new'] = pd.DataFrame(data['cleaned_description'].apply(cleaned2))\n",
    "data.head(10)"
   ]
  },
  {
   "cell_type": "code",
   "execution_count": null,
   "metadata": {
    "colab": {
     "base_uri": "https://localhost:8080/"
    },
    "executionInfo": {
     "elapsed": 3621,
     "status": "ok",
     "timestamp": 1619272277489,
     "user": {
      "displayName": "Gokulram K",
      "photoUrl": "",
      "userId": "14437931993620132200"
     },
     "user_tz": -330
    },
    "id": "r5xLm5imEzRQ",
    "outputId": "7a019a84-eb86-42c8-e68a-8632e7e75ea1"
   },
   "outputs": [
    {
     "name": "stdout",
     "output_type": "stream",
     "text": [
      "[nltk_data] Downloading package stopwords to /root/nltk_data...\n",
      "[nltk_data]   Unzipping corpora/stopwords.zip.\n",
      "[nltk_data] Downloading package punkt to /root/nltk_data...\n",
      "[nltk_data]   Unzipping tokenizers/punkt.zip.\n",
      "[nltk_data] Downloading package wordnet to /root/nltk_data...\n",
      "[nltk_data]   Unzipping corpora/wordnet.zip.\n"
     ]
    }
   ],
   "source": [
    "from nltk.tokenize import word_tokenize\n",
    "import re\n",
    "import nltk\n",
    "nltk.download('stopwords')\n",
    "nltk.download('punkt')\n",
    "nltk.download('wordnet')\n",
    "from nltk.corpus import stopwords\n",
    "from nltk.stem import WordNetLemmatizer\n",
    "from nltk.stem import PorterStemmer"
   ]
  },
  {
   "cell_type": "code",
   "execution_count": null,
   "metadata": {
    "colab": {
     "base_uri": "https://localhost:8080/",
     "height": 421
    },
    "executionInfo": {
     "elapsed": 1308,
     "status": "error",
     "timestamp": 1619272278102,
     "user": {
      "displayName": "Gokulram K",
      "photoUrl": "",
      "userId": "14437931993620132200"
     },
     "user_tz": -330
    },
    "id": "hHxRNNDEFIAk",
    "outputId": "aa885a11-5949-4a09-831a-32b91c21e2a2"
   },
   "outputs": [
    {
     "ename": "KeyError",
     "evalue": "ignored",
     "output_type": "error",
     "traceback": [
      "\u001b[0;31m---------------------------------------------------------------------------\u001b[0m",
      "\u001b[0;31mValueError\u001b[0m                                Traceback (most recent call last)",
      "\u001b[0;32m/usr/local/lib/python3.7/dist-packages/pandas/core/indexes/range.py\u001b[0m in \u001b[0;36mget_loc\u001b[0;34m(self, key, method, tolerance)\u001b[0m\n\u001b[1;32m    354\u001b[0m                 \u001b[0;32mtry\u001b[0m\u001b[0;34m:\u001b[0m\u001b[0;34m\u001b[0m\u001b[0;34m\u001b[0m\u001b[0m\n\u001b[0;32m--> 355\u001b[0;31m                     \u001b[0;32mreturn\u001b[0m \u001b[0mself\u001b[0m\u001b[0;34m.\u001b[0m\u001b[0m_range\u001b[0m\u001b[0;34m.\u001b[0m\u001b[0mindex\u001b[0m\u001b[0;34m(\u001b[0m\u001b[0mnew_key\u001b[0m\u001b[0;34m)\u001b[0m\u001b[0;34m\u001b[0m\u001b[0;34m\u001b[0m\u001b[0m\n\u001b[0m\u001b[1;32m    356\u001b[0m                 \u001b[0;32mexcept\u001b[0m \u001b[0mValueError\u001b[0m \u001b[0;32mas\u001b[0m \u001b[0merr\u001b[0m\u001b[0;34m:\u001b[0m\u001b[0;34m\u001b[0m\u001b[0;34m\u001b[0m\u001b[0m\n",
      "\u001b[0;31mValueError\u001b[0m: 70 is not in range",
      "\nThe above exception was the direct cause of the following exception:\n",
      "\u001b[0;31mKeyError\u001b[0m                                  Traceback (most recent call last)",
      "\u001b[0;32m<ipython-input-43-0e95c5944a5b>\u001b[0m in \u001b[0;36m<module>\u001b[0;34m()\u001b[0m\n\u001b[1;32m      1\u001b[0m \u001b[0mcorpus\u001b[0m \u001b[0;34m=\u001b[0m \u001b[0;34m[\u001b[0m\u001b[0;34m]\u001b[0m\u001b[0;34m\u001b[0m\u001b[0;34m\u001b[0m\u001b[0m\n\u001b[1;32m      2\u001b[0m \u001b[0;32mfor\u001b[0m \u001b[0mi\u001b[0m \u001b[0;32min\u001b[0m \u001b[0mrange\u001b[0m \u001b[0;34m(\u001b[0m\u001b[0;36m0\u001b[0m\u001b[0;34m,\u001b[0m\u001b[0;36m1000\u001b[0m\u001b[0;34m)\u001b[0m\u001b[0;34m:\u001b[0m\u001b[0;34m\u001b[0m\u001b[0;34m\u001b[0m\u001b[0m\n\u001b[0;32m----> 3\u001b[0;31m     \u001b[0mDescription\u001b[0m  \u001b[0;34m=\u001b[0m \u001b[0mre\u001b[0m\u001b[0;34m.\u001b[0m\u001b[0msub\u001b[0m\u001b[0;34m(\u001b[0m\u001b[0;34m'[^a-zA-Z]'\u001b[0m\u001b[0;34m,\u001b[0m\u001b[0;34m\" \"\u001b[0m\u001b[0;34m,\u001b[0m\u001b[0mdata\u001b[0m\u001b[0;34m[\u001b[0m\u001b[0;34m\"Description\"\u001b[0m\u001b[0;34m]\u001b[0m\u001b[0;34m[\u001b[0m\u001b[0mi\u001b[0m\u001b[0;34m]\u001b[0m\u001b[0;34m)\u001b[0m\u001b[0;34m\u001b[0m\u001b[0;34m\u001b[0m\u001b[0m\n\u001b[0m\u001b[1;32m      4\u001b[0m     \u001b[0mDescription\u001b[0m \u001b[0;34m=\u001b[0m \u001b[0mDescription\u001b[0m\u001b[0;34m.\u001b[0m\u001b[0mlower\u001b[0m\u001b[0;34m(\u001b[0m\u001b[0;34m)\u001b[0m\u001b[0;34m\u001b[0m\u001b[0;34m\u001b[0m\u001b[0m\n\u001b[1;32m      5\u001b[0m     \u001b[0mDescription\u001b[0m \u001b[0;34m=\u001b[0m \u001b[0mDescription\u001b[0m\u001b[0;34m.\u001b[0m\u001b[0msplit\u001b[0m\u001b[0;34m(\u001b[0m\u001b[0;34m)\u001b[0m\u001b[0;34m\u001b[0m\u001b[0;34m\u001b[0m\u001b[0m\n",
      "\u001b[0;32m/usr/local/lib/python3.7/dist-packages/pandas/core/series.py\u001b[0m in \u001b[0;36m__getitem__\u001b[0;34m(self, key)\u001b[0m\n\u001b[1;32m    880\u001b[0m \u001b[0;34m\u001b[0m\u001b[0m\n\u001b[1;32m    881\u001b[0m         \u001b[0;32melif\u001b[0m \u001b[0mkey_is_scalar\u001b[0m\u001b[0;34m:\u001b[0m\u001b[0;34m\u001b[0m\u001b[0;34m\u001b[0m\u001b[0m\n\u001b[0;32m--> 882\u001b[0;31m             \u001b[0;32mreturn\u001b[0m \u001b[0mself\u001b[0m\u001b[0;34m.\u001b[0m\u001b[0m_get_value\u001b[0m\u001b[0;34m(\u001b[0m\u001b[0mkey\u001b[0m\u001b[0;34m)\u001b[0m\u001b[0;34m\u001b[0m\u001b[0;34m\u001b[0m\u001b[0m\n\u001b[0m\u001b[1;32m    883\u001b[0m \u001b[0;34m\u001b[0m\u001b[0m\n\u001b[1;32m    884\u001b[0m         \u001b[0;32mif\u001b[0m \u001b[0mis_hashable\u001b[0m\u001b[0;34m(\u001b[0m\u001b[0mkey\u001b[0m\u001b[0;34m)\u001b[0m\u001b[0;34m:\u001b[0m\u001b[0;34m\u001b[0m\u001b[0;34m\u001b[0m\u001b[0m\n",
      "\u001b[0;32m/usr/local/lib/python3.7/dist-packages/pandas/core/series.py\u001b[0m in \u001b[0;36m_get_value\u001b[0;34m(self, label, takeable)\u001b[0m\n\u001b[1;32m    988\u001b[0m \u001b[0;34m\u001b[0m\u001b[0m\n\u001b[1;32m    989\u001b[0m         \u001b[0;31m# Similar to Index.get_value, but we do not fall back to positional\u001b[0m\u001b[0;34m\u001b[0m\u001b[0;34m\u001b[0m\u001b[0;34m\u001b[0m\u001b[0m\n\u001b[0;32m--> 990\u001b[0;31m         \u001b[0mloc\u001b[0m \u001b[0;34m=\u001b[0m \u001b[0mself\u001b[0m\u001b[0;34m.\u001b[0m\u001b[0mindex\u001b[0m\u001b[0;34m.\u001b[0m\u001b[0mget_loc\u001b[0m\u001b[0;34m(\u001b[0m\u001b[0mlabel\u001b[0m\u001b[0;34m)\u001b[0m\u001b[0;34m\u001b[0m\u001b[0;34m\u001b[0m\u001b[0m\n\u001b[0m\u001b[1;32m    991\u001b[0m         \u001b[0;32mreturn\u001b[0m \u001b[0mself\u001b[0m\u001b[0;34m.\u001b[0m\u001b[0mindex\u001b[0m\u001b[0;34m.\u001b[0m\u001b[0m_get_values_for_loc\u001b[0m\u001b[0;34m(\u001b[0m\u001b[0mself\u001b[0m\u001b[0;34m,\u001b[0m \u001b[0mloc\u001b[0m\u001b[0;34m,\u001b[0m \u001b[0mlabel\u001b[0m\u001b[0;34m)\u001b[0m\u001b[0;34m\u001b[0m\u001b[0;34m\u001b[0m\u001b[0m\n\u001b[1;32m    992\u001b[0m \u001b[0;34m\u001b[0m\u001b[0m\n",
      "\u001b[0;32m/usr/local/lib/python3.7/dist-packages/pandas/core/indexes/range.py\u001b[0m in \u001b[0;36mget_loc\u001b[0;34m(self, key, method, tolerance)\u001b[0m\n\u001b[1;32m    355\u001b[0m                     \u001b[0;32mreturn\u001b[0m \u001b[0mself\u001b[0m\u001b[0;34m.\u001b[0m\u001b[0m_range\u001b[0m\u001b[0;34m.\u001b[0m\u001b[0mindex\u001b[0m\u001b[0;34m(\u001b[0m\u001b[0mnew_key\u001b[0m\u001b[0;34m)\u001b[0m\u001b[0;34m\u001b[0m\u001b[0;34m\u001b[0m\u001b[0m\n\u001b[1;32m    356\u001b[0m                 \u001b[0;32mexcept\u001b[0m \u001b[0mValueError\u001b[0m \u001b[0;32mas\u001b[0m \u001b[0merr\u001b[0m\u001b[0;34m:\u001b[0m\u001b[0;34m\u001b[0m\u001b[0;34m\u001b[0m\u001b[0m\n\u001b[0;32m--> 357\u001b[0;31m                     \u001b[0;32mraise\u001b[0m \u001b[0mKeyError\u001b[0m\u001b[0;34m(\u001b[0m\u001b[0mkey\u001b[0m\u001b[0;34m)\u001b[0m \u001b[0;32mfrom\u001b[0m \u001b[0merr\u001b[0m\u001b[0;34m\u001b[0m\u001b[0;34m\u001b[0m\u001b[0m\n\u001b[0m\u001b[1;32m    358\u001b[0m             \u001b[0;32mraise\u001b[0m \u001b[0mKeyError\u001b[0m\u001b[0;34m(\u001b[0m\u001b[0mkey\u001b[0m\u001b[0;34m)\u001b[0m\u001b[0;34m\u001b[0m\u001b[0;34m\u001b[0m\u001b[0m\n\u001b[1;32m    359\u001b[0m         \u001b[0;32mreturn\u001b[0m \u001b[0msuper\u001b[0m\u001b[0;34m(\u001b[0m\u001b[0;34m)\u001b[0m\u001b[0;34m.\u001b[0m\u001b[0mget_loc\u001b[0m\u001b[0;34m(\u001b[0m\u001b[0mkey\u001b[0m\u001b[0;34m,\u001b[0m \u001b[0mmethod\u001b[0m\u001b[0;34m=\u001b[0m\u001b[0mmethod\u001b[0m\u001b[0;34m,\u001b[0m \u001b[0mtolerance\u001b[0m\u001b[0;34m=\u001b[0m\u001b[0mtolerance\u001b[0m\u001b[0;34m)\u001b[0m\u001b[0;34m\u001b[0m\u001b[0;34m\u001b[0m\u001b[0m\n",
      "\u001b[0;31mKeyError\u001b[0m: 70"
     ]
    }
   ],
   "source": [
    "corpus = []\n",
    "for i in range (0,1000):\n",
    "    Description\t = re.sub('[^a-zA-Z]',\" \",data[\"Description\"][i])\n",
    "    Description = Description.lower()\n",
    "    Description = Description.split()\n",
    "    pe=PorterStemmer()\n",
    "    all_stopword=stopwords.words('english')\n",
    "    type (all_stopword)\n",
    "    all_stopword.remove(\"not\")\n",
    "    Description = [pe.stem(word) for word in Description if not word in set (all_stopword)]\n",
    "    Description=\" \".join(Description)\n",
    "    corpus.append(Description)"
   ]
  },
  {
   "cell_type": "code",
   "execution_count": null,
   "metadata": {
    "colab": {
     "base_uri": "https://localhost:8080/"
    },
    "executionInfo": {
     "elapsed": 703,
     "status": "ok",
     "timestamp": 1619272279741,
     "user": {
      "displayName": "Gokulram K",
      "photoUrl": "",
      "userId": "14437931993620132200"
     },
     "user_tz": -330
    },
    "id": "mrfQOxbBFOIj",
    "outputId": "ffe28989-4155-4018-9eed-f8596e1702b4"
   },
   "outputs": [
    {
     "data": {
      "text/plain": [
       "['awesom',\n",
       " '',\n",
       " 'not bad',\n",
       " 'good',\n",
       " 'feel great class go realli well compar last sem onlin class',\n",
       " 'good',\n",
       " 'good',\n",
       " 'felt good issu colleg wifi password not given us jio wifi not work work fine st year everi saturday holiday good move us rest focu non academ activ',\n",
       " 'grow experi',\n",
       " 'everyth fine',\n",
       " 'everyth great',\n",
       " 'everyth feel comfort',\n",
       " 'noth',\n",
       " 'sorri experienc colleg yet',\n",
       " 'noth',\n",
       " 'good',\n",
       " 'everyth go fine onlin class class offlin would much better',\n",
       " 'mostli onlin interact much',\n",
       " 'dint experi anyth yet',\n",
       " 'nice environ',\n",
       " 'nice',\n",
       " 'good experi',\n",
       " 'averag good',\n",
       " 'good give wonder experi mani tortur project submiss also intern mark evalu',\n",
       " 'librari good nice climat insid campu',\n",
       " 'almost wonder experi',\n",
       " 'good colleg great atmospher',\n",
       " 'gain knowledg',\n",
       " 'good',\n",
       " 'colleg good educ',\n",
       " 'good regard academ poor term hostel mess food',\n",
       " 'like experi school life',\n",
       " 'awesom experi',\n",
       " 'nice',\n",
       " 'kind fun',\n",
       " 'good',\n",
       " 'good could better',\n",
       " 'good',\n",
       " 'best',\n",
       " 'good experi',\n",
       " 'nice place enjoy learn',\n",
       " 'good',\n",
       " 'noth new learn lead life',\n",
       " 'averag level need improvis lot especi internet connect student necess like food',\n",
       " 'wast money',\n",
       " 'simpli wast',\n",
       " 'nil',\n",
       " 'got mani good friend like teacher see discrimin dislik',\n",
       " 'fun interest place meet peopl learn new thing',\n",
       " 'godd',\n",
       " 'get much colleg life first semest bound restrict remain covid',\n",
       " 'simpli wast placement practic',\n",
       " 'excit experi',\n",
       " 'colleg manag infra etc good student expect compani placement better even pandem compani good number hope worthi one futur',\n",
       " 'colleg laam nalla dhaan iruku lab uniform colour maathunga yaa bu driver ah student ah nu kandu pudika kashtama iruku',\n",
       " 'coach good way lab facil upgrad infrastructur convinc',\n",
       " 'nice',\n",
       " 'level teach good manag easi approach',\n",
       " 'colleg heaven beauti soul place take us good posit life colleg life posit neg gain us experi face real life problem strength overcom handl kind situat colleg life give us beauti memori long last relationship golden period everyon life',\n",
       " 'good faculti good librari good student rage colleg campu top colleg one colleg colleg total neat peac',\n",
       " 'good colleg',\n",
       " 'h',\n",
       " 'good interact friend explor colleg new feel fresher rather onlin offlin give us spirit work energet',\n",
       " 'good',\n",
       " 'good',\n",
       " 'good',\n",
       " 'best lovabl journey ever travel faculti good experienc infrastructur averag ambianc good',\n",
       " 'good use',\n",
       " '',\n",
       " 'hostel life best far cit concern']"
      ]
     },
     "execution_count": 44,
     "metadata": {
      "tags": []
     },
     "output_type": "execute_result"
    }
   ],
   "source": [
    "corpus"
   ]
  },
  {
   "cell_type": "code",
   "execution_count": null,
   "metadata": {
    "colab": {
     "base_uri": "https://localhost:8080/"
    },
    "executionInfo": {
     "elapsed": 806,
     "status": "ok",
     "timestamp": 1619277402455,
     "user": {
      "displayName": "Gokulram K",
      "photoUrl": "",
      "userId": "14437931993620132200"
     },
     "user_tz": -330
    },
    "id": "xugsAI0jizK3",
    "outputId": "9fc09157-b526-4628-aed1-44758c9474ea"
   },
   "outputs": [
    {
     "name": "stdout",
     "output_type": "stream",
     "text": [
      "IV_train : 56\n",
      "IV_test : 14\n",
      "DV_train : 56\n",
      "DV_test : 14\n"
     ]
    },
    {
     "data": {
      "text/plain": [
       "(56,)"
      ]
     },
     "execution_count": 55,
     "metadata": {
      "tags": []
     },
     "output_type": "execute_result"
    }
   ],
   "source": [
    "from sklearn.model_selection import train_test_split\n",
    "\n",
    "Independent_var = data.cleaned_description_new\n",
    "Dependent_var = data.Result\n",
    "\n",
    "IV_train,IV_test,DV_train,DV_test = train_test_split(Independent_var,Dependent_var,test_size=0.2,random_state=225)\n",
    "\n",
    "print('IV_train :',len(IV_train))\n",
    "print('IV_test :',len(IV_test))\n",
    "print('DV_train :',len(DV_train))\n",
    "print('DV_test :',len(DV_test))\n",
    "IV_train.shape\n"
   ]
  },
  {
   "cell_type": "code",
   "execution_count": null,
   "metadata": {
    "id": "2J7i8Wb_Cd9U"
   },
   "outputs": [],
   "source": [
    "\n",
    "from sklearn.feature_extraction.text import TfidfVectorizer\n",
    "from sklearn.linear_model import LogisticRegression\n",
    "\n",
    "tvec=TfidfVectorizer()\n",
    "clf2=LogisticRegression(solver=\"lbfgs\")\n",
    "\n",
    "from sklearn.pipeline import Pipeline"
   ]
  },
  {
   "cell_type": "code",
   "execution_count": null,
   "metadata": {
    "colab": {
     "base_uri": "https://localhost:8080/"
    },
    "executionInfo": {
     "elapsed": 1115,
     "status": "ok",
     "timestamp": 1619277413617,
     "user": {
      "displayName": "Gokulram K",
      "photoUrl": "",
      "userId": "14437931993620132200"
     },
     "user_tz": -330
    },
    "id": "cnrnQgbXo3Es",
    "outputId": "5aa1d9b7-3ba8-4d5f-851a-0b1f25a059e0"
   },
   "outputs": [
    {
     "data": {
      "text/plain": [
       "array([[ 0,  0,  0],\n",
       "       [ 0,  0,  0],\n",
       "       [ 2,  1, 11]])"
      ]
     },
     "execution_count": 57,
     "metadata": {
      "tags": []
     },
     "output_type": "execute_result"
    }
   ],
   "source": [
    "\n",
    "model= Pipeline([('vectorizer',tvec),('classifier',clf2)])\n",
    "\n",
    "model.fit(IV_train,DV_train)\n",
    "\n",
    "from sklearn.metrics import confusion_matrix\n",
    "\n",
    "predictions = model.predict(IV_test)\n",
    "confusion_matrix(predictions,DV_test)\n"
   ]
  },
  {
   "cell_type": "code",
   "execution_count": null,
   "metadata": {
    "colab": {
     "base_uri": "https://localhost:8080/"
    },
    "executionInfo": {
     "elapsed": 691,
     "status": "ok",
     "timestamp": 1619277415357,
     "user": {
      "displayName": "Gokulram K",
      "photoUrl": "",
      "userId": "14437931993620132200"
     },
     "user_tz": -330
    },
    "id": "_Geu69pWvqKs",
    "outputId": "a661e794-a508-4e4a-b2dc-5643b7cfba3e"
   },
   "outputs": [
    {
     "data": {
      "text/plain": [
       "0.7678571428571429"
      ]
     },
     "execution_count": 58,
     "metadata": {
      "tags": []
     },
     "output_type": "execute_result"
    }
   ],
   "source": [
    "model.score(IV_train,DV_train)"
   ]
  },
  {
   "cell_type": "code",
   "execution_count": null,
   "metadata": {
    "colab": {
     "base_uri": "https://localhost:8080/"
    },
    "executionInfo": {
     "elapsed": 1023,
     "status": "ok",
     "timestamp": 1619277416949,
     "user": {
      "displayName": "Gokulram K",
      "photoUrl": "",
      "userId": "14437931993620132200"
     },
     "user_tz": -330
    },
    "id": "h3cXu77yo9UA",
    "outputId": "89917b32-0c96-405d-9658-e71e7d2300f5"
   },
   "outputs": [
    {
     "name": "stdout",
     "output_type": "stream",
     "text": [
      "Accuracy :  0.7857142857142857\n",
      "precision : 1.0\n",
      "Recall : 0.7857142857142857\n"
     ]
    },
    {
     "name": "stderr",
     "output_type": "stream",
     "text": [
      "/usr/local/lib/python3.7/dist-packages/sklearn/metrics/_classification.py:1272: UndefinedMetricWarning: Recall is ill-defined and being set to 0.0 in labels with no true samples. Use `zero_division` parameter to control this behavior.\n",
      "  _warn_prf(average, modifier, msg_start, len(result))\n"
     ]
    }
   ],
   "source": [
    "from sklearn.metrics import accuracy_score, precision_score,recall_score\n",
    "\n",
    "print(\"Accuracy : \" , accuracy_score(predictions,DV_test))\n",
    "print(\"precision :\" , precision_score(predictions,DV_test,average=\"weighted\") )\n",
    "print(\"Recall :\" , recall_score(predictions,DV_test,average=\"weighted\"))"
   ]
  },
  {
   "cell_type": "code",
   "execution_count": null,
   "metadata": {
    "colab": {
     "base_uri": "https://localhost:8080/"
    },
    "executionInfo": {
     "elapsed": 1319,
     "status": "ok",
     "timestamp": 1619277418833,
     "user": {
      "displayName": "Gokulram K",
      "photoUrl": "",
      "userId": "14437931993620132200"
     },
     "user_tz": -330
    },
    "id": "4oE6-3fspDXq",
    "outputId": "3eb2c500-c1e6-4242-de72-d36dd371c366"
   },
   "outputs": [
    {
     "name": "stdout",
     "output_type": "stream",
     "text": [
      "['positive ']\n"
     ]
    }
   ],
   "source": [
    "example=[\"Good College\"]\n",
    "result=model.predict(example)\n",
    "\n",
    "print(result)"
   ]
  },
  {
   "cell_type": "code",
   "execution_count": null,
   "metadata": {
    "id": "FY7TL8rLJvvd"
   },
   "outputs": [],
   "source": []
  }
 ],
 "metadata": {
  "colab": {
   "authorship_tag": "ABX9TyM54VjlQseyypC98OZid11x",
   "collapsed_sections": [],
   "name": "Copy of ML project Logestic regression.ipynb",
   "provenance": [
    {
     "file_id": "1VbeqQOMuncDSB_HcEa0iCmzruQMWczm0",
     "timestamp": 1619329781614
    }
   ],
   "toc_visible": true
  },
  "kernelspec": {
   "display_name": "Python 3",
   "language": "python",
   "name": "python3"
  },
  "language_info": {
   "codemirror_mode": {
    "name": "ipython",
    "version": 3
   },
   "file_extension": ".py",
   "mimetype": "text/x-python",
   "name": "python",
   "nbconvert_exporter": "python",
   "pygments_lexer": "ipython3",
   "version": "3.8.5"
  }
 },
 "nbformat": 4,
 "nbformat_minor": 1
}
